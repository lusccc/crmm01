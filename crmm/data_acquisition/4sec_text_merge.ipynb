{
 "cells": [
  {
   "cell_type": "code",
   "execution_count": 1,
   "metadata": {
    "collapsed": true,
    "ExecuteTime": {
     "start_time": "2023-03-31T21:34:43.703223Z",
     "end_time": "2023-03-31T21:34:43.703576Z"
    }
   },
   "outputs": [],
   "source": [
    "from pathlib import Path"
   ]
  },
  {
   "cell_type": "code",
   "execution_count": 2,
   "outputs": [],
   "source": [
    "import pandas as pd"
   ],
   "metadata": {
    "collapsed": false,
    "ExecuteTime": {
     "start_time": "2023-03-31T21:34:43.703367Z",
     "end_time": "2023-03-31T21:34:43.862874Z"
    }
   }
  },
  {
   "cell_type": "code",
   "execution_count": 3,
   "outputs": [],
   "source": [
    "# corp_rating_df = pd.read_csv('../../data/cr_sec_ori/corporate_rating_with_cik.csv', index_col=0)\n",
    "# corp_rating_df"
   ],
   "metadata": {
    "collapsed": false,
    "ExecuteTime": {
     "start_time": "2023-03-31T21:34:43.863843Z",
     "end_time": "2023-03-31T21:34:43.865584Z"
    }
   }
  },
  {
   "cell_type": "code",
   "execution_count": 4,
   "outputs": [],
   "source": [
    "# corp_rating_rec_df = corp_rating_df.loc[corp_rating_df['Symbol'] == 'DUK']\n",
    "# corp_rating_rec_df"
   ],
   "metadata": {
    "collapsed": false,
    "ExecuteTime": {
     "start_time": "2023-03-31T21:34:43.865933Z",
     "end_time": "2023-03-31T21:34:43.870917Z"
    }
   }
  },
  {
   "cell_type": "code",
   "execution_count": 5,
   "outputs": [],
   "source": [
    "# for index, row in corp_rating_rec_df.iterrows():\n",
    "#     print()\n",
    "#     print(index)\n",
    "#     print(row)"
   ],
   "metadata": {
    "collapsed": false,
    "ExecuteTime": {
     "start_time": "2023-03-31T21:34:43.871972Z",
     "end_time": "2023-03-31T21:34:43.875549Z"
    }
   }
  },
  {
   "cell_type": "code",
   "execution_count": 6,
   "outputs": [],
   "source": [
    "# txt_content = Path('sec_res/batch_0001/001/CACI_0000016058_10K_20130630_Item1_excerpt.txt').read_text()\n",
    "# txt_content"
   ],
   "metadata": {
    "collapsed": false,
    "ExecuteTime": {
     "start_time": "2023-03-31T21:34:43.875655Z",
     "end_time": "2023-03-31T21:34:43.878251Z"
    }
   }
  },
  {
   "cell_type": "code",
   "execution_count": 7,
   "outputs": [],
   "source": [
    "# txt_content = txt_content.replace('\\n', '')"
   ],
   "metadata": {
    "collapsed": false,
    "ExecuteTime": {
     "start_time": "2023-03-31T21:34:43.923264Z",
     "end_time": "2023-03-31T21:34:43.923873Z"
    }
   }
  },
  {
   "cell_type": "code",
   "execution_count": 8,
   "outputs": [],
   "source": [
    "# filtertxt = txt_content.encode('ascii', 'ignore').decode()"
   ],
   "metadata": {
    "collapsed": false,
    "ExecuteTime": {
     "start_time": "2023-03-31T21:34:43.923459Z",
     "end_time": "2023-03-31T21:34:43.924231Z"
    }
   }
  },
  {
   "cell_type": "markdown",
   "source": [
    "## run sec_text_extraction.py to get:"
   ],
   "metadata": {
    "collapsed": false
   }
  },
  {
   "cell_type": "code",
   "execution_count": 9,
   "outputs": [
    {
     "data": {
      "text/plain": "     Rating                         Name Symbol  \\\nId                                                \n0         A        Whirlpool Corporation    WHR   \n1       BBB        Whirlpool Corporation    WHR   \n2       BBB        Whirlpool Corporation    WHR   \n3       BBB        Whirlpool Corporation    WHR   \n4       BBB        Whirlpool Corporation    WHR   \n...     ...                          ...    ...   \n2024    BBB                    NVR, Inc.    NVR   \n2025     BB  Kaiser Aluminum Corporation   KALU   \n2026      B       Cresud S.A.C.I.F. y A.  CRESY   \n2027      B       Cresud S.A.C.I.F. y A.  CRESY   \n2028    CCC       Cresud S.A.C.I.F. y A.  CRESY   \n\n                      Rating Agency Name        Date             Sector  \\\nId                                                                        \n0             Egan-Jones Ratings Company  11/27/2015  Consumer Durables   \n1             Egan-Jones Ratings Company   2/13/2014  Consumer Durables   \n2                          Fitch Ratings    3/6/2015  Consumer Durables   \n3                          Fitch Ratings   6/15/2012  Consumer Durables   \n4     Standard & Poor's Ratings Services  10/24/2016  Consumer Durables   \n...                                  ...         ...                ...   \n2024           Moody's Investors Service    9/5/2012      Capital Goods   \n2025  Standard & Poor's Ratings Services   4/28/2016      Capital Goods   \n2026                       Fitch Ratings  11/30/2012            Finance   \n2027                       Fitch Ratings   6/15/2012            Finance   \n2028                       Fitch Ratings    8/1/2014            Finance   \n\n      currentRatio  quickRatio  cashRatio  daysOfSalesOutstanding  ...  \\\nId                                                                 ...   \n0         0.945894    0.426395   0.099690               44.203245  ...   \n1         1.033559    0.498234   0.203120               38.991156  ...   \n2         0.963703    0.451505   0.122099               50.841385  ...   \n3         1.019851    0.510402   0.176116               41.161738  ...   \n4         0.957844    0.495432   0.141608               47.761126  ...   \n...            ...         ...        ...                     ...  ...   \n2024     11.757767    7.115059   7.057420                1.079762  ...   \n2025      2.962788    1.294743   0.428234               30.602414  ...   \n2026      0.883875    0.842553   0.233830              147.599371  ...   \n2027      0.911713    0.748356   0.310640              131.644566  ...   \n2028      1.085007    1.026375   0.203490              151.660513  ...   \n\n      enterpriseValueMultiple  operatingCashFlowPerShare  \\\nId                                                         \n0                    7.057088                  15.565438   \n1                    6.460618                  15.914250   \n2                   10.491970                  18.888889   \n3                    4.080741                   6.901042   \n4                    8.293505                  15.808147   \n...                       ...                        ...   \n2024                15.867701                  52.760726   \n2025                -4.729967                   9.232021   \n2026                 9.358311                   1.575328   \n2027                22.440102                   1.074441   \n2028                 9.604061                   2.258650   \n\n      operatingCashFlowSalesRatio  payablesTurnover      CIK  \\\nId                                                             \n0                        0.058638          3.906655   106640   \n1                        0.067239          4.002846   106640   \n2                        0.074426          3.483510   106640   \n3                        0.028394          4.581150   106640   \n4                        0.058065          3.857790   106640   \n...                           ...               ...      ...   \n2024                     0.083018         15.758348   906163   \n2025                     0.114089         14.542373   811596   \n2026                     0.283634          2.300168  1034957   \n2027                     0.217783          1.997608  1034957   \n2028                     0.252606          1.865682  1034957   \n\n                                                 Item7A  \\\nId                                                        \n0     \\nMARKET RISK\\n\\nWe have in place an enterpris...   \n1                                                   NaN   \n2     \\nMARKET RISK\\n\\nWe have in place an enterpris...   \n3     \\nSee Market Risk in Managements Discussion an...   \n4     \\nMARKET RISK\\n\\nWe have in place an enterpris...   \n...                                                 ...   \n2024  Item 7A. Quantitative and Qualitative Disclosu...   \n2025  Item 7A. Quantitative and Qualitative Disclosu...   \n2026                                                NaN   \n2027                                                NaN   \n2028                                                NaN   \n\n                                                  Item7  \\\nId                                                        \n0     \\n RESULTS OF OPERATIONS\\n\\nThis Management Di...   \n1                                                   NaN   \n2     \\n RESULTS OF OPERATIONS\\n\\nThis Management Di...   \n3     \\nOF OPERATIONS.\\n\\nSee Managements Discussion...   \n4     \\n RESULTS OF OPERATIONS\\n\\nThis Management Di...   \n...                                                 ...   \n2024  Item 7. Managements Discussion and Analysis of...   \n2025  Item 7. Managements Discussion and Analysis of...   \n2026                                                NaN   \n2027                                                NaN   \n2028                                                NaN   \n\n                                                  Item2  \\\nId                                                        \n0     \\nABOUT WHIRLPOOL\\n\\nWhirlpool is the number o...   \n1     \\nABOUT WHIRLPOOL\\n\\nWhirlpool Corporation (Wh...   \n2     \\nABOUT WHIRLPOOL\\n\\nWhirlpool Corporation (Wh...   \n3     \\nABOUT WHIRLPOOL\\n\\nWhirlpool Corporation (Wh...   \n4     \\nABOUT WHIRLPOOL\\n\\nWhirlpool Corporation (\"W...   \n...                                                 ...   \n2024  Item 2. Managements Discussion and Analysis of...   \n2025  Item 2. Managements Discussion and Analysis of...   \n2026                                                NaN   \n2027                                                NaN   \n2028                                                NaN   \n\n                                                 Item1A  \\\nId                                                        \n0     \\nThere have been no material changes in our r...   \n1     \\nThere have been no material changes in our r...   \n2     \\nThere have been no material changes in our r...   \n3     \\nThis report contains statements referring to...   \n4     \\nThere have been no material changes in our r...   \n...                                                 ...   \n2024  Item 1A. Risk Factors.  \\n\\nForward-Looking St...   \n2025  Item 1A. Risk Factors\\n\\nReference is made to ...   \n2026                                                NaN   \n2027                                                NaN   \n2028                                                NaN   \n\n                                                  Item1  \nId                                                       \n0     PART I\\n\\n\\nWhirlpool Corporation, the worlds ...  \n1                                                   NaN  \n2     PART I\\n\\n\\nWhirlpool Corporation, the worlds ...  \n3     PART I\\n\\n\\nWhirlpool Corporation, the worlds ...  \n4     PART I\\n\\n\\nWhirlpool Corporation, the worlds ...  \n...                                                 ...  \n2024  PART I  \\n\\n Item 1. Business.  \\n\\nGeneral  \\...  \n2025  Item 1. Business\\n\\nAvailability of Informatio...  \n2026                                                NaN  \n2027                                                NaN  \n2028                                                NaN  \n\n[2029 rows x 37 columns]",
      "text/html": "<div>\n<style scoped>\n    .dataframe tbody tr th:only-of-type {\n        vertical-align: middle;\n    }\n\n    .dataframe tbody tr th {\n        vertical-align: top;\n    }\n\n    .dataframe thead th {\n        text-align: right;\n    }\n</style>\n<table border=\"1\" class=\"dataframe\">\n  <thead>\n    <tr style=\"text-align: right;\">\n      <th></th>\n      <th>Rating</th>\n      <th>Name</th>\n      <th>Symbol</th>\n      <th>Rating Agency Name</th>\n      <th>Date</th>\n      <th>Sector</th>\n      <th>currentRatio</th>\n      <th>quickRatio</th>\n      <th>cashRatio</th>\n      <th>daysOfSalesOutstanding</th>\n      <th>...</th>\n      <th>enterpriseValueMultiple</th>\n      <th>operatingCashFlowPerShare</th>\n      <th>operatingCashFlowSalesRatio</th>\n      <th>payablesTurnover</th>\n      <th>CIK</th>\n      <th>Item7A</th>\n      <th>Item7</th>\n      <th>Item2</th>\n      <th>Item1A</th>\n      <th>Item1</th>\n    </tr>\n    <tr>\n      <th>Id</th>\n      <th></th>\n      <th></th>\n      <th></th>\n      <th></th>\n      <th></th>\n      <th></th>\n      <th></th>\n      <th></th>\n      <th></th>\n      <th></th>\n      <th></th>\n      <th></th>\n      <th></th>\n      <th></th>\n      <th></th>\n      <th></th>\n      <th></th>\n      <th></th>\n      <th></th>\n      <th></th>\n      <th></th>\n    </tr>\n  </thead>\n  <tbody>\n    <tr>\n      <th>0</th>\n      <td>A</td>\n      <td>Whirlpool Corporation</td>\n      <td>WHR</td>\n      <td>Egan-Jones Ratings Company</td>\n      <td>11/27/2015</td>\n      <td>Consumer Durables</td>\n      <td>0.945894</td>\n      <td>0.426395</td>\n      <td>0.099690</td>\n      <td>44.203245</td>\n      <td>...</td>\n      <td>7.057088</td>\n      <td>15.565438</td>\n      <td>0.058638</td>\n      <td>3.906655</td>\n      <td>106640</td>\n      <td>\\nMARKET RISK\\n\\nWe have in place an enterpris...</td>\n      <td>\\n RESULTS OF OPERATIONS\\n\\nThis Management Di...</td>\n      <td>\\nABOUT WHIRLPOOL\\n\\nWhirlpool is the number o...</td>\n      <td>\\nThere have been no material changes in our r...</td>\n      <td>PART I\\n\\n\\nWhirlpool Corporation, the worlds ...</td>\n    </tr>\n    <tr>\n      <th>1</th>\n      <td>BBB</td>\n      <td>Whirlpool Corporation</td>\n      <td>WHR</td>\n      <td>Egan-Jones Ratings Company</td>\n      <td>2/13/2014</td>\n      <td>Consumer Durables</td>\n      <td>1.033559</td>\n      <td>0.498234</td>\n      <td>0.203120</td>\n      <td>38.991156</td>\n      <td>...</td>\n      <td>6.460618</td>\n      <td>15.914250</td>\n      <td>0.067239</td>\n      <td>4.002846</td>\n      <td>106640</td>\n      <td>NaN</td>\n      <td>NaN</td>\n      <td>\\nABOUT WHIRLPOOL\\n\\nWhirlpool Corporation (Wh...</td>\n      <td>\\nThere have been no material changes in our r...</td>\n      <td>NaN</td>\n    </tr>\n    <tr>\n      <th>2</th>\n      <td>BBB</td>\n      <td>Whirlpool Corporation</td>\n      <td>WHR</td>\n      <td>Fitch Ratings</td>\n      <td>3/6/2015</td>\n      <td>Consumer Durables</td>\n      <td>0.963703</td>\n      <td>0.451505</td>\n      <td>0.122099</td>\n      <td>50.841385</td>\n      <td>...</td>\n      <td>10.491970</td>\n      <td>18.888889</td>\n      <td>0.074426</td>\n      <td>3.483510</td>\n      <td>106640</td>\n      <td>\\nMARKET RISK\\n\\nWe have in place an enterpris...</td>\n      <td>\\n RESULTS OF OPERATIONS\\n\\nThis Management Di...</td>\n      <td>\\nABOUT WHIRLPOOL\\n\\nWhirlpool Corporation (Wh...</td>\n      <td>\\nThere have been no material changes in our r...</td>\n      <td>PART I\\n\\n\\nWhirlpool Corporation, the worlds ...</td>\n    </tr>\n    <tr>\n      <th>3</th>\n      <td>BBB</td>\n      <td>Whirlpool Corporation</td>\n      <td>WHR</td>\n      <td>Fitch Ratings</td>\n      <td>6/15/2012</td>\n      <td>Consumer Durables</td>\n      <td>1.019851</td>\n      <td>0.510402</td>\n      <td>0.176116</td>\n      <td>41.161738</td>\n      <td>...</td>\n      <td>4.080741</td>\n      <td>6.901042</td>\n      <td>0.028394</td>\n      <td>4.581150</td>\n      <td>106640</td>\n      <td>\\nSee Market Risk in Managements Discussion an...</td>\n      <td>\\nOF OPERATIONS.\\n\\nSee Managements Discussion...</td>\n      <td>\\nABOUT WHIRLPOOL\\n\\nWhirlpool Corporation (Wh...</td>\n      <td>\\nThis report contains statements referring to...</td>\n      <td>PART I\\n\\n\\nWhirlpool Corporation, the worlds ...</td>\n    </tr>\n    <tr>\n      <th>4</th>\n      <td>BBB</td>\n      <td>Whirlpool Corporation</td>\n      <td>WHR</td>\n      <td>Standard &amp; Poor's Ratings Services</td>\n      <td>10/24/2016</td>\n      <td>Consumer Durables</td>\n      <td>0.957844</td>\n      <td>0.495432</td>\n      <td>0.141608</td>\n      <td>47.761126</td>\n      <td>...</td>\n      <td>8.293505</td>\n      <td>15.808147</td>\n      <td>0.058065</td>\n      <td>3.857790</td>\n      <td>106640</td>\n      <td>\\nMARKET RISK\\n\\nWe have in place an enterpris...</td>\n      <td>\\n RESULTS OF OPERATIONS\\n\\nThis Management Di...</td>\n      <td>\\nABOUT WHIRLPOOL\\n\\nWhirlpool Corporation (\"W...</td>\n      <td>\\nThere have been no material changes in our r...</td>\n      <td>PART I\\n\\n\\nWhirlpool Corporation, the worlds ...</td>\n    </tr>\n    <tr>\n      <th>...</th>\n      <td>...</td>\n      <td>...</td>\n      <td>...</td>\n      <td>...</td>\n      <td>...</td>\n      <td>...</td>\n      <td>...</td>\n      <td>...</td>\n      <td>...</td>\n      <td>...</td>\n      <td>...</td>\n      <td>...</td>\n      <td>...</td>\n      <td>...</td>\n      <td>...</td>\n      <td>...</td>\n      <td>...</td>\n      <td>...</td>\n      <td>...</td>\n      <td>...</td>\n      <td>...</td>\n    </tr>\n    <tr>\n      <th>2024</th>\n      <td>BBB</td>\n      <td>NVR, Inc.</td>\n      <td>NVR</td>\n      <td>Moody's Investors Service</td>\n      <td>9/5/2012</td>\n      <td>Capital Goods</td>\n      <td>11.757767</td>\n      <td>7.115059</td>\n      <td>7.057420</td>\n      <td>1.079762</td>\n      <td>...</td>\n      <td>15.867701</td>\n      <td>52.760726</td>\n      <td>0.083018</td>\n      <td>15.758348</td>\n      <td>906163</td>\n      <td>Item 7A. Quantitative and Qualitative Disclosu...</td>\n      <td>Item 7. Managements Discussion and Analysis of...</td>\n      <td>Item 2. Managements Discussion and Analysis of...</td>\n      <td>Item 1A. Risk Factors.  \\n\\nForward-Looking St...</td>\n      <td>PART I  \\n\\n Item 1. Business.  \\n\\nGeneral  \\...</td>\n    </tr>\n    <tr>\n      <th>2025</th>\n      <td>BB</td>\n      <td>Kaiser Aluminum Corporation</td>\n      <td>KALU</td>\n      <td>Standard &amp; Poor's Ratings Services</td>\n      <td>4/28/2016</td>\n      <td>Capital Goods</td>\n      <td>2.962788</td>\n      <td>1.294743</td>\n      <td>0.428234</td>\n      <td>30.602414</td>\n      <td>...</td>\n      <td>-4.729967</td>\n      <td>9.232021</td>\n      <td>0.114089</td>\n      <td>14.542373</td>\n      <td>811596</td>\n      <td>Item 7A. Quantitative and Qualitative Disclosu...</td>\n      <td>Item 7. Managements Discussion and Analysis of...</td>\n      <td>Item 2. Managements Discussion and Analysis of...</td>\n      <td>Item 1A. Risk Factors\\n\\nReference is made to ...</td>\n      <td>Item 1. Business\\n\\nAvailability of Informatio...</td>\n    </tr>\n    <tr>\n      <th>2026</th>\n      <td>B</td>\n      <td>Cresud S.A.C.I.F. y A.</td>\n      <td>CRESY</td>\n      <td>Fitch Ratings</td>\n      <td>11/30/2012</td>\n      <td>Finance</td>\n      <td>0.883875</td>\n      <td>0.842553</td>\n      <td>0.233830</td>\n      <td>147.599371</td>\n      <td>...</td>\n      <td>9.358311</td>\n      <td>1.575328</td>\n      <td>0.283634</td>\n      <td>2.300168</td>\n      <td>1034957</td>\n      <td>NaN</td>\n      <td>NaN</td>\n      <td>NaN</td>\n      <td>NaN</td>\n      <td>NaN</td>\n    </tr>\n    <tr>\n      <th>2027</th>\n      <td>B</td>\n      <td>Cresud S.A.C.I.F. y A.</td>\n      <td>CRESY</td>\n      <td>Fitch Ratings</td>\n      <td>6/15/2012</td>\n      <td>Finance</td>\n      <td>0.911713</td>\n      <td>0.748356</td>\n      <td>0.310640</td>\n      <td>131.644566</td>\n      <td>...</td>\n      <td>22.440102</td>\n      <td>1.074441</td>\n      <td>0.217783</td>\n      <td>1.997608</td>\n      <td>1034957</td>\n      <td>NaN</td>\n      <td>NaN</td>\n      <td>NaN</td>\n      <td>NaN</td>\n      <td>NaN</td>\n    </tr>\n    <tr>\n      <th>2028</th>\n      <td>CCC</td>\n      <td>Cresud S.A.C.I.F. y A.</td>\n      <td>CRESY</td>\n      <td>Fitch Ratings</td>\n      <td>8/1/2014</td>\n      <td>Finance</td>\n      <td>1.085007</td>\n      <td>1.026375</td>\n      <td>0.203490</td>\n      <td>151.660513</td>\n      <td>...</td>\n      <td>9.604061</td>\n      <td>2.258650</td>\n      <td>0.252606</td>\n      <td>1.865682</td>\n      <td>1034957</td>\n      <td>NaN</td>\n      <td>NaN</td>\n      <td>NaN</td>\n      <td>NaN</td>\n      <td>NaN</td>\n    </tr>\n  </tbody>\n</table>\n<p>2029 rows × 37 columns</p>\n</div>"
     },
     "execution_count": 9,
     "metadata": {},
     "output_type": "execute_result"
    }
   ],
   "source": [
    "corp_rating_sec_df = pd.read_csv('../../data/cr_sec_ori/corporate_rating_with_cik_and_sec_text.csv', index_col=0)\n",
    "corp_rating_sec_df"
   ],
   "metadata": {
    "collapsed": false,
    "ExecuteTime": {
     "start_time": "2023-03-31T21:34:43.923484Z",
     "end_time": "2023-03-31T21:34:45.073034Z"
    }
   }
  },
  {
   "cell_type": "code",
   "execution_count": 10,
   "outputs": [
    {
     "data": {
      "text/plain": "     Rating                                      Name Symbol  \\\nId                                                             \n38        A              Southwest Gas Holdings, Inc.    SWX   \n39      BBB              Southwest Gas Holdings, Inc.    SWX   \n40       AA              Southwest Gas Holdings, Inc.    SWX   \n41      BBB              Southwest Gas Holdings, Inc.    SWX   \n42        A              Southwest Gas Holdings, Inc.    SWX   \n...     ...                                       ...    ...   \n2019      B  IRSA Inversiones Y Representaciones S.A.    IRS   \n2022     BB                 Xperi Holding Corporation   XPER   \n2026      B                    Cresud S.A.C.I.F. y A.  CRESY   \n2027      B                    Cresud S.A.C.I.F. y A.  CRESY   \n2028    CCC                    Cresud S.A.C.I.F. y A.  CRESY   \n\n                      Rating Agency Name        Date             Sector  \\\nId                                                                        \n38    Standard & Poor's Ratings Services    9/4/2014   Public Utilities   \n39             Moody's Investors Service   6/15/2012   Public Utilities   \n40    Standard & Poor's Ratings Services    4/2/2014   Public Utilities   \n41    Standard & Poor's Ratings Services   4/27/2011   Public Utilities   \n42                         Fitch Ratings   5/28/2013   Public Utilities   \n...                                  ...         ...                ...   \n2019  Standard & Poor's Ratings Services  12/17/2010  Consumer Services   \n2022  Standard & Poor's Ratings Services  10/24/2016         Technology   \n2026                       Fitch Ratings  11/30/2012            Finance   \n2027                       Fitch Ratings   6/15/2012            Finance   \n2028                       Fitch Ratings    8/1/2014            Finance   \n\n      currentRatio  quickRatio  cashRatio  daysOfSalesOutstanding  ...  \\\nId                                                                 ...   \n38        1.290340    0.685385   0.085908               48.482547  ...   \n39        0.544655    0.287845   0.040967               40.470155  ...   \n40        1.139367    0.600110   0.094612               41.063627  ...   \n41        0.746940    0.505028   0.257767               29.434374  ...   \n42        0.856648    0.415681   0.047708               37.282947  ...   \n...            ...         ...        ...                     ...  ...   \n2019      0.887235    0.864677   0.053052              228.854889  ...   \n2022      3.919105    2.525982   1.286356               22.306532  ...   \n2026      0.883875    0.842553   0.233830              147.599371  ...   \n2027      0.911713    0.748356   0.310640              131.644566  ...   \n2028      1.085007    1.026375   0.203490              151.660513  ...   \n\n      enterpriseValueMultiple  operatingCashFlowPerShare  \\\nId                                                         \n38                   7.917553                   7.446985   \n39                   6.872968                   5.489751   \n40                   7.216167                   7.469311   \n41                   6.241508                   8.145057   \n42                   6.464844                   8.372722   \n...                       ...                        ...   \n2019                12.241042                   0.650550   \n2022                22.822943                   2.960782   \n2026                 9.358311                   1.575328   \n2027                22.440102                   1.074441   \n2028                 9.604061                   2.258650   \n\n      operatingCashFlowSalesRatio  payablesTurnover      CIK  Item7A  Item7  \\\nId                                                                            \n38                       0.163276          9.430418  1692115     NaN    NaN   \n39                       0.133554          7.692640  1692115     NaN    NaN   \n40                       0.177472          7.845579  1692115     NaN    NaN   \n41                       0.202687          8.504440  1692115     NaN    NaN   \n42                       0.200399          9.204469  1692115     NaN    NaN   \n...                           ...               ...      ...     ...    ...   \n2019                     0.284479          0.702238   933267     NaN    NaN   \n2022                     0.561062          0.073164  1803696     NaN    NaN   \n2026                     0.283634          2.300168  1034957     NaN    NaN   \n2027                     0.217783          1.997608  1034957     NaN    NaN   \n2028                     0.252606          1.865682  1034957     NaN    NaN   \n\n      Item2  Item1A  Item1  \nId                          \n38      NaN     NaN    NaN  \n39      NaN     NaN    NaN  \n40      NaN     NaN    NaN  \n41      NaN     NaN    NaN  \n42      NaN     NaN    NaN  \n...     ...     ...    ...  \n2019    NaN     NaN    NaN  \n2022    NaN     NaN    NaN  \n2026    NaN     NaN    NaN  \n2027    NaN     NaN    NaN  \n2028    NaN     NaN    NaN  \n\n[228 rows x 37 columns]",
      "text/html": "<div>\n<style scoped>\n    .dataframe tbody tr th:only-of-type {\n        vertical-align: middle;\n    }\n\n    .dataframe tbody tr th {\n        vertical-align: top;\n    }\n\n    .dataframe thead th {\n        text-align: right;\n    }\n</style>\n<table border=\"1\" class=\"dataframe\">\n  <thead>\n    <tr style=\"text-align: right;\">\n      <th></th>\n      <th>Rating</th>\n      <th>Name</th>\n      <th>Symbol</th>\n      <th>Rating Agency Name</th>\n      <th>Date</th>\n      <th>Sector</th>\n      <th>currentRatio</th>\n      <th>quickRatio</th>\n      <th>cashRatio</th>\n      <th>daysOfSalesOutstanding</th>\n      <th>...</th>\n      <th>enterpriseValueMultiple</th>\n      <th>operatingCashFlowPerShare</th>\n      <th>operatingCashFlowSalesRatio</th>\n      <th>payablesTurnover</th>\n      <th>CIK</th>\n      <th>Item7A</th>\n      <th>Item7</th>\n      <th>Item2</th>\n      <th>Item1A</th>\n      <th>Item1</th>\n    </tr>\n    <tr>\n      <th>Id</th>\n      <th></th>\n      <th></th>\n      <th></th>\n      <th></th>\n      <th></th>\n      <th></th>\n      <th></th>\n      <th></th>\n      <th></th>\n      <th></th>\n      <th></th>\n      <th></th>\n      <th></th>\n      <th></th>\n      <th></th>\n      <th></th>\n      <th></th>\n      <th></th>\n      <th></th>\n      <th></th>\n      <th></th>\n    </tr>\n  </thead>\n  <tbody>\n    <tr>\n      <th>38</th>\n      <td>A</td>\n      <td>Southwest Gas Holdings, Inc.</td>\n      <td>SWX</td>\n      <td>Standard &amp; Poor's Ratings Services</td>\n      <td>9/4/2014</td>\n      <td>Public Utilities</td>\n      <td>1.290340</td>\n      <td>0.685385</td>\n      <td>0.085908</td>\n      <td>48.482547</td>\n      <td>...</td>\n      <td>7.917553</td>\n      <td>7.446985</td>\n      <td>0.163276</td>\n      <td>9.430418</td>\n      <td>1692115</td>\n      <td>NaN</td>\n      <td>NaN</td>\n      <td>NaN</td>\n      <td>NaN</td>\n      <td>NaN</td>\n    </tr>\n    <tr>\n      <th>39</th>\n      <td>BBB</td>\n      <td>Southwest Gas Holdings, Inc.</td>\n      <td>SWX</td>\n      <td>Moody's Investors Service</td>\n      <td>6/15/2012</td>\n      <td>Public Utilities</td>\n      <td>0.544655</td>\n      <td>0.287845</td>\n      <td>0.040967</td>\n      <td>40.470155</td>\n      <td>...</td>\n      <td>6.872968</td>\n      <td>5.489751</td>\n      <td>0.133554</td>\n      <td>7.692640</td>\n      <td>1692115</td>\n      <td>NaN</td>\n      <td>NaN</td>\n      <td>NaN</td>\n      <td>NaN</td>\n      <td>NaN</td>\n    </tr>\n    <tr>\n      <th>40</th>\n      <td>AA</td>\n      <td>Southwest Gas Holdings, Inc.</td>\n      <td>SWX</td>\n      <td>Standard &amp; Poor's Ratings Services</td>\n      <td>4/2/2014</td>\n      <td>Public Utilities</td>\n      <td>1.139367</td>\n      <td>0.600110</td>\n      <td>0.094612</td>\n      <td>41.063627</td>\n      <td>...</td>\n      <td>7.216167</td>\n      <td>7.469311</td>\n      <td>0.177472</td>\n      <td>7.845579</td>\n      <td>1692115</td>\n      <td>NaN</td>\n      <td>NaN</td>\n      <td>NaN</td>\n      <td>NaN</td>\n      <td>NaN</td>\n    </tr>\n    <tr>\n      <th>41</th>\n      <td>BBB</td>\n      <td>Southwest Gas Holdings, Inc.</td>\n      <td>SWX</td>\n      <td>Standard &amp; Poor's Ratings Services</td>\n      <td>4/27/2011</td>\n      <td>Public Utilities</td>\n      <td>0.746940</td>\n      <td>0.505028</td>\n      <td>0.257767</td>\n      <td>29.434374</td>\n      <td>...</td>\n      <td>6.241508</td>\n      <td>8.145057</td>\n      <td>0.202687</td>\n      <td>8.504440</td>\n      <td>1692115</td>\n      <td>NaN</td>\n      <td>NaN</td>\n      <td>NaN</td>\n      <td>NaN</td>\n      <td>NaN</td>\n    </tr>\n    <tr>\n      <th>42</th>\n      <td>A</td>\n      <td>Southwest Gas Holdings, Inc.</td>\n      <td>SWX</td>\n      <td>Fitch Ratings</td>\n      <td>5/28/2013</td>\n      <td>Public Utilities</td>\n      <td>0.856648</td>\n      <td>0.415681</td>\n      <td>0.047708</td>\n      <td>37.282947</td>\n      <td>...</td>\n      <td>6.464844</td>\n      <td>8.372722</td>\n      <td>0.200399</td>\n      <td>9.204469</td>\n      <td>1692115</td>\n      <td>NaN</td>\n      <td>NaN</td>\n      <td>NaN</td>\n      <td>NaN</td>\n      <td>NaN</td>\n    </tr>\n    <tr>\n      <th>...</th>\n      <td>...</td>\n      <td>...</td>\n      <td>...</td>\n      <td>...</td>\n      <td>...</td>\n      <td>...</td>\n      <td>...</td>\n      <td>...</td>\n      <td>...</td>\n      <td>...</td>\n      <td>...</td>\n      <td>...</td>\n      <td>...</td>\n      <td>...</td>\n      <td>...</td>\n      <td>...</td>\n      <td>...</td>\n      <td>...</td>\n      <td>...</td>\n      <td>...</td>\n      <td>...</td>\n    </tr>\n    <tr>\n      <th>2019</th>\n      <td>B</td>\n      <td>IRSA Inversiones Y Representaciones S.A.</td>\n      <td>IRS</td>\n      <td>Standard &amp; Poor's Ratings Services</td>\n      <td>12/17/2010</td>\n      <td>Consumer Services</td>\n      <td>0.887235</td>\n      <td>0.864677</td>\n      <td>0.053052</td>\n      <td>228.854889</td>\n      <td>...</td>\n      <td>12.241042</td>\n      <td>0.650550</td>\n      <td>0.284479</td>\n      <td>0.702238</td>\n      <td>933267</td>\n      <td>NaN</td>\n      <td>NaN</td>\n      <td>NaN</td>\n      <td>NaN</td>\n      <td>NaN</td>\n    </tr>\n    <tr>\n      <th>2022</th>\n      <td>BB</td>\n      <td>Xperi Holding Corporation</td>\n      <td>XPER</td>\n      <td>Standard &amp; Poor's Ratings Services</td>\n      <td>10/24/2016</td>\n      <td>Technology</td>\n      <td>3.919105</td>\n      <td>2.525982</td>\n      <td>1.286356</td>\n      <td>22.306532</td>\n      <td>...</td>\n      <td>22.822943</td>\n      <td>2.960782</td>\n      <td>0.561062</td>\n      <td>0.073164</td>\n      <td>1803696</td>\n      <td>NaN</td>\n      <td>NaN</td>\n      <td>NaN</td>\n      <td>NaN</td>\n      <td>NaN</td>\n    </tr>\n    <tr>\n      <th>2026</th>\n      <td>B</td>\n      <td>Cresud S.A.C.I.F. y A.</td>\n      <td>CRESY</td>\n      <td>Fitch Ratings</td>\n      <td>11/30/2012</td>\n      <td>Finance</td>\n      <td>0.883875</td>\n      <td>0.842553</td>\n      <td>0.233830</td>\n      <td>147.599371</td>\n      <td>...</td>\n      <td>9.358311</td>\n      <td>1.575328</td>\n      <td>0.283634</td>\n      <td>2.300168</td>\n      <td>1034957</td>\n      <td>NaN</td>\n      <td>NaN</td>\n      <td>NaN</td>\n      <td>NaN</td>\n      <td>NaN</td>\n    </tr>\n    <tr>\n      <th>2027</th>\n      <td>B</td>\n      <td>Cresud S.A.C.I.F. y A.</td>\n      <td>CRESY</td>\n      <td>Fitch Ratings</td>\n      <td>6/15/2012</td>\n      <td>Finance</td>\n      <td>0.911713</td>\n      <td>0.748356</td>\n      <td>0.310640</td>\n      <td>131.644566</td>\n      <td>...</td>\n      <td>22.440102</td>\n      <td>1.074441</td>\n      <td>0.217783</td>\n      <td>1.997608</td>\n      <td>1034957</td>\n      <td>NaN</td>\n      <td>NaN</td>\n      <td>NaN</td>\n      <td>NaN</td>\n      <td>NaN</td>\n    </tr>\n    <tr>\n      <th>2028</th>\n      <td>CCC</td>\n      <td>Cresud S.A.C.I.F. y A.</td>\n      <td>CRESY</td>\n      <td>Fitch Ratings</td>\n      <td>8/1/2014</td>\n      <td>Finance</td>\n      <td>1.085007</td>\n      <td>1.026375</td>\n      <td>0.203490</td>\n      <td>151.660513</td>\n      <td>...</td>\n      <td>9.604061</td>\n      <td>2.258650</td>\n      <td>0.252606</td>\n      <td>1.865682</td>\n      <td>1034957</td>\n      <td>NaN</td>\n      <td>NaN</td>\n      <td>NaN</td>\n      <td>NaN</td>\n      <td>NaN</td>\n    </tr>\n  </tbody>\n</table>\n<p>228 rows × 37 columns</p>\n</div>"
     },
     "execution_count": 10,
     "metadata": {},
     "output_type": "execute_result"
    }
   ],
   "source": [
    "corp_rating_sec_df_na = corp_rating_sec_df.loc[\n",
    "    (corp_rating_sec_df['Item2'].isna()) &\n",
    "    (corp_rating_sec_df['Item7'].isna()) &\n",
    "    (corp_rating_sec_df['Item7A'].isna()) &\n",
    "    (corp_rating_sec_df['Item1A'].isna()) &\n",
    "    (corp_rating_sec_df['Item1'].isna())]\n",
    "corp_rating_sec_df_na"
   ],
   "metadata": {
    "collapsed": false,
    "ExecuteTime": {
     "start_time": "2023-03-31T21:34:45.075821Z",
     "end_time": "2023-03-31T21:34:45.085006Z"
    }
   }
  },
  {
   "cell_type": "code",
   "execution_count": 11,
   "outputs": [],
   "source": [
    "na_rows = list(corp_rating_sec_df_na.index)"
   ],
   "metadata": {
    "collapsed": false,
    "ExecuteTime": {
     "start_time": "2023-03-31T21:34:45.086134Z",
     "end_time": "2023-03-31T21:34:45.251591Z"
    }
   }
  },
  {
   "cell_type": "code",
   "execution_count": 12,
   "outputs": [],
   "source": [
    "# corp_rating_sec_df_na.to_csv('corp_rating_sec_df_na.csv')"
   ],
   "metadata": {
    "collapsed": false,
    "ExecuteTime": {
     "start_time": "2023-03-31T21:34:45.133003Z",
     "end_time": "2023-03-31T21:34:45.251748Z"
    }
   }
  },
  {
   "cell_type": "code",
   "execution_count": 13,
   "outputs": [],
   "source": [
    "corp_rating_sec_df = corp_rating_sec_df.drop(na_rows)\n",
    "\n"
   ],
   "metadata": {
    "collapsed": false,
    "ExecuteTime": {
     "start_time": "2023-03-31T21:34:45.133026Z",
     "end_time": "2023-03-31T21:34:45.251821Z"
    }
   }
  },
  {
   "cell_type": "markdown",
   "source": [
    "# should  reset index!!! or the downstream task will be massed up!!!"
   ],
   "metadata": {
    "collapsed": false
   }
  },
  {
   "cell_type": "code",
   "execution_count": 14,
   "outputs": [],
   "source": [
    "corp_rating_sec_df = corp_rating_sec_df.reset_index(drop=True)"
   ],
   "metadata": {
    "collapsed": false,
    "ExecuteTime": {
     "start_time": "2023-03-31T21:34:45.133096Z",
     "end_time": "2023-03-31T21:34:45.251868Z"
    }
   }
  },
  {
   "cell_type": "code",
   "execution_count": 15,
   "outputs": [
    {
     "data": {
      "text/plain": "     Rating                            Name Symbol  \\\n0         A           Whirlpool Corporation    WHR   \n1       BBB           Whirlpool Corporation    WHR   \n2       BBB           Whirlpool Corporation    WHR   \n3       BBB           Whirlpool Corporation    WHR   \n4       BBB           Whirlpool Corporation    WHR   \n...     ...                             ...    ...   \n1796     AA                   Gartner, Inc.     IT   \n1797      B  SBA Communications Corporation   SBAC   \n1798     AA            Imperial Oil Limited    IMO   \n1799    BBB                       NVR, Inc.    NVR   \n1800     BB     Kaiser Aluminum Corporation   KALU   \n\n                      Rating Agency Name        Date             Sector  \\\n0             Egan-Jones Ratings Company  11/27/2015  Consumer Durables   \n1             Egan-Jones Ratings Company   2/13/2014  Consumer Durables   \n2                          Fitch Ratings    3/6/2015  Consumer Durables   \n3                          Fitch Ratings   6/15/2012  Consumer Durables   \n4     Standard & Poor's Ratings Services  10/24/2016  Consumer Durables   \n...                                  ...         ...                ...   \n1796          Egan-Jones Ratings Company   2/18/2016  Consumer Services   \n1797  Standard & Poor's Ratings Services   8/28/2013  Consumer Services   \n1798                                DBRS   10/7/2016             Energy   \n1799           Moody's Investors Service    9/5/2012      Capital Goods   \n1800  Standard & Poor's Ratings Services   4/28/2016      Capital Goods   \n\n      currentRatio  quickRatio  cashRatio  daysOfSalesOutstanding  ...  \\\n0         0.945894    0.426395   0.099690               44.203245  ...   \n1         1.033559    0.498234   0.203120               38.991156  ...   \n2         0.963703    0.451505   0.122099               50.841385  ...   \n3         1.019851    0.510402   0.176116               41.161738  ...   \n4         0.957844    0.495432   0.141608               47.761126  ...   \n...            ...         ...        ...                     ...  ...   \n1796      0.862111    0.720623   0.281812               97.999541  ...   \n1797      0.459629    0.266021   0.163323               19.955103  ...   \n1798      0.986608    0.886943   0.100695               26.994041  ...   \n1799     11.757767    7.115059   7.057420                1.079762  ...   \n1800      2.962788    1.294743   0.428234               30.602414  ...   \n\n      operatingCashFlowPerShare  operatingCashFlowSalesRatio  \\\n0                     15.565438                     0.058638   \n1                     15.914250                     0.067239   \n2                     18.888889                     0.074426   \n3                      6.901042                     0.028394   \n4                     15.808147                     0.058065   \n...                         ...                          ...   \n1796                   4.121082                     0.159756   \n1797                   3.894427                     0.381332   \n1798                   2.377301                     0.073664   \n1799                  52.760726                     0.083018   \n1800                   9.232021                     0.114089   \n\n      payablesTurnover      CIK  \\\n0             3.906655   106640   \n1             4.002846   106640   \n2             3.483510   106640   \n3             4.581150   106640   \n4             3.857790   106640   \n...                ...      ...   \n1796          2.164291   749251   \n1797         16.799152  1034054   \n1798          0.000000    49938   \n1799         15.758348   906163   \n1800         14.542373   811596   \n\n                                                 Item7A  \\\n0     \\nMARKET RISK\\n\\nWe have in place an enterpris...   \n1                                                   NaN   \n2     \\nMARKET RISK\\n\\nWe have in place an enterpris...   \n3     \\nSee Market Risk in Managements Discussion an...   \n4     \\nMARKET RISK\\n\\nWe have in place an enterpris...   \n...                                                 ...   \n1796                                                NaN   \n1797  \\nWe are exposed to certain market risks that ...   \n1798  Item 7A. Quantitative and qualitative disclosu...   \n1799  Item 7A. Quantitative and Qualitative Disclosu...   \n1800  Item 7A. Quantitative and Qualitative Disclosu...   \n\n                                                  Item7  \\\n0     \\n RESULTS OF OPERATIONS\\n\\nThis Management Di...   \n1                                                   NaN   \n2     \\n RESULTS OF OPERATIONS\\n\\nThis Management Di...   \n3     \\nOF OPERATIONS.\\n\\nSee Managements Discussion...   \n4     \\n RESULTS OF OPERATIONS\\n\\nThis Management Di...   \n...                                                 ...   \n1796                                                NaN   \n1797  \\nThe following discussion of our financial co...   \n1798  Item 7. Managements discussion and analysis of...   \n1799  Item 7. Managements Discussion and Analysis of...   \n1800  Item 7. Managements Discussion and Analysis of...   \n\n                                                  Item2  \\\n0     \\nABOUT WHIRLPOOL\\n\\nWhirlpool is the number o...   \n1     \\nABOUT WHIRLPOOL\\n\\nWhirlpool Corporation (Wh...   \n2     \\nABOUT WHIRLPOOL\\n\\nWhirlpool Corporation (Wh...   \n3     \\nABOUT WHIRLPOOL\\n\\nWhirlpool Corporation (Wh...   \n4     \\nABOUT WHIRLPOOL\\n\\nWhirlpool Corporation (\"W...   \n...                                                 ...   \n1796  \\nThe purpose of the following Managements Dis...   \n1797  \\nWe are a leading independent owner and opera...   \n1798  Item 2. Managements Discussion and Analysis of...   \n1799  Item 2. Managements Discussion and Analysis of...   \n1800  Item 2. Managements Discussion and Analysis of...   \n\n                                                 Item1A  \\\n0     \\nThere have been no material changes in our r...   \n1     \\nThere have been no material changes in our r...   \n2     \\nThere have been no material changes in our r...   \n3     \\nThis report contains statements referring to...   \n4     \\nThere have been no material changes in our r...   \n...                                                 ...   \n1796  \\nA description of the risk factors associated...   \n1797  \\nRisks Related to Our Business  \\n\\nIf our wi...   \n1798  Item 1A. Risk factors  \\n\\nVolatility of oil a...   \n1799  Item 1A. Risk Factors.  \\n\\nForward-Looking St...   \n1800  Item 1A. Risk Factors\\n\\nReference is made to ...   \n\n                                                  Item1  \\\n0     PART I\\n\\n\\nWhirlpool Corporation, the worlds ...   \n1                                                   NaN   \n2     PART I\\n\\n\\nWhirlpool Corporation, the worlds ...   \n3     PART I\\n\\n\\nWhirlpool Corporation, the worlds ...   \n4     PART I\\n\\n\\nWhirlpool Corporation, the worlds ...   \n...                                                 ...   \n1796                                                NaN   \n1797  \\nGeneral  \\n\\nWe are a leading independent ow...   \n1798  PART I  \\n\\n Item 1. Business  \\n\\nImperial Oi...   \n1799  PART I  \\n\\n Item 1. Business.  \\n\\nGeneral  \\...   \n1800  Item 1. Business\\n\\nAvailability of Informatio...   \n\n                                                secText  \n0     \\nABOUT WHIRLPOOL\\n\\nWhirlpool is the number o...  \n1     \\nABOUT WHIRLPOOL\\n\\nWhirlpool Corporation (Wh...  \n2     \\nABOUT WHIRLPOOL\\n\\nWhirlpool Corporation (Wh...  \n3     \\nABOUT WHIRLPOOL\\n\\nWhirlpool Corporation (Wh...  \n4     \\nABOUT WHIRLPOOL\\n\\nWhirlpool Corporation (\"W...  \n...                                                 ...  \n1796  \\nThe purpose of the following Managements Dis...  \n1797  \\nWe are a leading independent owner and opera...  \n1798  Item 2. Managements Discussion and Analysis of...  \n1799  Item 2. Managements Discussion and Analysis of...  \n1800  Item 2. Managements Discussion and Analysis of...  \n\n[1801 rows x 38 columns]",
      "text/html": "<div>\n<style scoped>\n    .dataframe tbody tr th:only-of-type {\n        vertical-align: middle;\n    }\n\n    .dataframe tbody tr th {\n        vertical-align: top;\n    }\n\n    .dataframe thead th {\n        text-align: right;\n    }\n</style>\n<table border=\"1\" class=\"dataframe\">\n  <thead>\n    <tr style=\"text-align: right;\">\n      <th></th>\n      <th>Rating</th>\n      <th>Name</th>\n      <th>Symbol</th>\n      <th>Rating Agency Name</th>\n      <th>Date</th>\n      <th>Sector</th>\n      <th>currentRatio</th>\n      <th>quickRatio</th>\n      <th>cashRatio</th>\n      <th>daysOfSalesOutstanding</th>\n      <th>...</th>\n      <th>operatingCashFlowPerShare</th>\n      <th>operatingCashFlowSalesRatio</th>\n      <th>payablesTurnover</th>\n      <th>CIK</th>\n      <th>Item7A</th>\n      <th>Item7</th>\n      <th>Item2</th>\n      <th>Item1A</th>\n      <th>Item1</th>\n      <th>secText</th>\n    </tr>\n  </thead>\n  <tbody>\n    <tr>\n      <th>0</th>\n      <td>A</td>\n      <td>Whirlpool Corporation</td>\n      <td>WHR</td>\n      <td>Egan-Jones Ratings Company</td>\n      <td>11/27/2015</td>\n      <td>Consumer Durables</td>\n      <td>0.945894</td>\n      <td>0.426395</td>\n      <td>0.099690</td>\n      <td>44.203245</td>\n      <td>...</td>\n      <td>15.565438</td>\n      <td>0.058638</td>\n      <td>3.906655</td>\n      <td>106640</td>\n      <td>\\nMARKET RISK\\n\\nWe have in place an enterpris...</td>\n      <td>\\n RESULTS OF OPERATIONS\\n\\nThis Management Di...</td>\n      <td>\\nABOUT WHIRLPOOL\\n\\nWhirlpool is the number o...</td>\n      <td>\\nThere have been no material changes in our r...</td>\n      <td>PART I\\n\\n\\nWhirlpool Corporation, the worlds ...</td>\n      <td>\\nABOUT WHIRLPOOL\\n\\nWhirlpool is the number o...</td>\n    </tr>\n    <tr>\n      <th>1</th>\n      <td>BBB</td>\n      <td>Whirlpool Corporation</td>\n      <td>WHR</td>\n      <td>Egan-Jones Ratings Company</td>\n      <td>2/13/2014</td>\n      <td>Consumer Durables</td>\n      <td>1.033559</td>\n      <td>0.498234</td>\n      <td>0.203120</td>\n      <td>38.991156</td>\n      <td>...</td>\n      <td>15.914250</td>\n      <td>0.067239</td>\n      <td>4.002846</td>\n      <td>106640</td>\n      <td>NaN</td>\n      <td>NaN</td>\n      <td>\\nABOUT WHIRLPOOL\\n\\nWhirlpool Corporation (Wh...</td>\n      <td>\\nThere have been no material changes in our r...</td>\n      <td>NaN</td>\n      <td>\\nABOUT WHIRLPOOL\\n\\nWhirlpool Corporation (Wh...</td>\n    </tr>\n    <tr>\n      <th>2</th>\n      <td>BBB</td>\n      <td>Whirlpool Corporation</td>\n      <td>WHR</td>\n      <td>Fitch Ratings</td>\n      <td>3/6/2015</td>\n      <td>Consumer Durables</td>\n      <td>0.963703</td>\n      <td>0.451505</td>\n      <td>0.122099</td>\n      <td>50.841385</td>\n      <td>...</td>\n      <td>18.888889</td>\n      <td>0.074426</td>\n      <td>3.483510</td>\n      <td>106640</td>\n      <td>\\nMARKET RISK\\n\\nWe have in place an enterpris...</td>\n      <td>\\n RESULTS OF OPERATIONS\\n\\nThis Management Di...</td>\n      <td>\\nABOUT WHIRLPOOL\\n\\nWhirlpool Corporation (Wh...</td>\n      <td>\\nThere have been no material changes in our r...</td>\n      <td>PART I\\n\\n\\nWhirlpool Corporation, the worlds ...</td>\n      <td>\\nABOUT WHIRLPOOL\\n\\nWhirlpool Corporation (Wh...</td>\n    </tr>\n    <tr>\n      <th>3</th>\n      <td>BBB</td>\n      <td>Whirlpool Corporation</td>\n      <td>WHR</td>\n      <td>Fitch Ratings</td>\n      <td>6/15/2012</td>\n      <td>Consumer Durables</td>\n      <td>1.019851</td>\n      <td>0.510402</td>\n      <td>0.176116</td>\n      <td>41.161738</td>\n      <td>...</td>\n      <td>6.901042</td>\n      <td>0.028394</td>\n      <td>4.581150</td>\n      <td>106640</td>\n      <td>\\nSee Market Risk in Managements Discussion an...</td>\n      <td>\\nOF OPERATIONS.\\n\\nSee Managements Discussion...</td>\n      <td>\\nABOUT WHIRLPOOL\\n\\nWhirlpool Corporation (Wh...</td>\n      <td>\\nThis report contains statements referring to...</td>\n      <td>PART I\\n\\n\\nWhirlpool Corporation, the worlds ...</td>\n      <td>\\nABOUT WHIRLPOOL\\n\\nWhirlpool Corporation (Wh...</td>\n    </tr>\n    <tr>\n      <th>4</th>\n      <td>BBB</td>\n      <td>Whirlpool Corporation</td>\n      <td>WHR</td>\n      <td>Standard &amp; Poor's Ratings Services</td>\n      <td>10/24/2016</td>\n      <td>Consumer Durables</td>\n      <td>0.957844</td>\n      <td>0.495432</td>\n      <td>0.141608</td>\n      <td>47.761126</td>\n      <td>...</td>\n      <td>15.808147</td>\n      <td>0.058065</td>\n      <td>3.857790</td>\n      <td>106640</td>\n      <td>\\nMARKET RISK\\n\\nWe have in place an enterpris...</td>\n      <td>\\n RESULTS OF OPERATIONS\\n\\nThis Management Di...</td>\n      <td>\\nABOUT WHIRLPOOL\\n\\nWhirlpool Corporation (\"W...</td>\n      <td>\\nThere have been no material changes in our r...</td>\n      <td>PART I\\n\\n\\nWhirlpool Corporation, the worlds ...</td>\n      <td>\\nABOUT WHIRLPOOL\\n\\nWhirlpool Corporation (\"W...</td>\n    </tr>\n    <tr>\n      <th>...</th>\n      <td>...</td>\n      <td>...</td>\n      <td>...</td>\n      <td>...</td>\n      <td>...</td>\n      <td>...</td>\n      <td>...</td>\n      <td>...</td>\n      <td>...</td>\n      <td>...</td>\n      <td>...</td>\n      <td>...</td>\n      <td>...</td>\n      <td>...</td>\n      <td>...</td>\n      <td>...</td>\n      <td>...</td>\n      <td>...</td>\n      <td>...</td>\n      <td>...</td>\n      <td>...</td>\n    </tr>\n    <tr>\n      <th>1796</th>\n      <td>AA</td>\n      <td>Gartner, Inc.</td>\n      <td>IT</td>\n      <td>Egan-Jones Ratings Company</td>\n      <td>2/18/2016</td>\n      <td>Consumer Services</td>\n      <td>0.862111</td>\n      <td>0.720623</td>\n      <td>0.281812</td>\n      <td>97.999541</td>\n      <td>...</td>\n      <td>4.121082</td>\n      <td>0.159756</td>\n      <td>2.164291</td>\n      <td>749251</td>\n      <td>NaN</td>\n      <td>NaN</td>\n      <td>\\nThe purpose of the following Managements Dis...</td>\n      <td>\\nA description of the risk factors associated...</td>\n      <td>NaN</td>\n      <td>\\nThe purpose of the following Managements Dis...</td>\n    </tr>\n    <tr>\n      <th>1797</th>\n      <td>B</td>\n      <td>SBA Communications Corporation</td>\n      <td>SBAC</td>\n      <td>Standard &amp; Poor's Ratings Services</td>\n      <td>8/28/2013</td>\n      <td>Consumer Services</td>\n      <td>0.459629</td>\n      <td>0.266021</td>\n      <td>0.163323</td>\n      <td>19.955103</td>\n      <td>...</td>\n      <td>3.894427</td>\n      <td>0.381332</td>\n      <td>16.799152</td>\n      <td>1034054</td>\n      <td>\\nWe are exposed to certain market risks that ...</td>\n      <td>\\nThe following discussion of our financial co...</td>\n      <td>\\nWe are a leading independent owner and opera...</td>\n      <td>\\nRisks Related to Our Business  \\n\\nIf our wi...</td>\n      <td>\\nGeneral  \\n\\nWe are a leading independent ow...</td>\n      <td>\\nWe are a leading independent owner and opera...</td>\n    </tr>\n    <tr>\n      <th>1798</th>\n      <td>AA</td>\n      <td>Imperial Oil Limited</td>\n      <td>IMO</td>\n      <td>DBRS</td>\n      <td>10/7/2016</td>\n      <td>Energy</td>\n      <td>0.986608</td>\n      <td>0.886943</td>\n      <td>0.100695</td>\n      <td>26.994041</td>\n      <td>...</td>\n      <td>2.377301</td>\n      <td>0.073664</td>\n      <td>0.000000</td>\n      <td>49938</td>\n      <td>Item 7A. Quantitative and qualitative disclosu...</td>\n      <td>Item 7. Managements discussion and analysis of...</td>\n      <td>Item 2. Managements Discussion and Analysis of...</td>\n      <td>Item 1A. Risk factors  \\n\\nVolatility of oil a...</td>\n      <td>PART I  \\n\\n Item 1. Business  \\n\\nImperial Oi...</td>\n      <td>Item 2. Managements Discussion and Analysis of...</td>\n    </tr>\n    <tr>\n      <th>1799</th>\n      <td>BBB</td>\n      <td>NVR, Inc.</td>\n      <td>NVR</td>\n      <td>Moody's Investors Service</td>\n      <td>9/5/2012</td>\n      <td>Capital Goods</td>\n      <td>11.757767</td>\n      <td>7.115059</td>\n      <td>7.057420</td>\n      <td>1.079762</td>\n      <td>...</td>\n      <td>52.760726</td>\n      <td>0.083018</td>\n      <td>15.758348</td>\n      <td>906163</td>\n      <td>Item 7A. Quantitative and Qualitative Disclosu...</td>\n      <td>Item 7. Managements Discussion and Analysis of...</td>\n      <td>Item 2. Managements Discussion and Analysis of...</td>\n      <td>Item 1A. Risk Factors.  \\n\\nForward-Looking St...</td>\n      <td>PART I  \\n\\n Item 1. Business.  \\n\\nGeneral  \\...</td>\n      <td>Item 2. Managements Discussion and Analysis of...</td>\n    </tr>\n    <tr>\n      <th>1800</th>\n      <td>BB</td>\n      <td>Kaiser Aluminum Corporation</td>\n      <td>KALU</td>\n      <td>Standard &amp; Poor's Ratings Services</td>\n      <td>4/28/2016</td>\n      <td>Capital Goods</td>\n      <td>2.962788</td>\n      <td>1.294743</td>\n      <td>0.428234</td>\n      <td>30.602414</td>\n      <td>...</td>\n      <td>9.232021</td>\n      <td>0.114089</td>\n      <td>14.542373</td>\n      <td>811596</td>\n      <td>Item 7A. Quantitative and Qualitative Disclosu...</td>\n      <td>Item 7. Managements Discussion and Analysis of...</td>\n      <td>Item 2. Managements Discussion and Analysis of...</td>\n      <td>Item 1A. Risk Factors\\n\\nReference is made to ...</td>\n      <td>Item 1. Business\\n\\nAvailability of Informatio...</td>\n      <td>Item 2. Managements Discussion and Analysis of...</td>\n    </tr>\n  </tbody>\n</table>\n<p>1801 rows × 38 columns</p>\n</div>"
     },
     "execution_count": 15,
     "metadata": {},
     "output_type": "execute_result"
    }
   ],
   "source": [
    "corp_rating_sec_df['secText'] = corp_rating_sec_df[['Item2', 'Item7', 'Item7A', 'Item1A', 'Item1']].apply(lambda row: ' '.join(row.values.astype(str)), axis=1)\n",
    "corp_rating_sec_df"
   ],
   "metadata": {
    "collapsed": false,
    "ExecuteTime": {
     "start_time": "2023-03-31T21:34:45.133119Z",
     "end_time": "2023-03-31T21:34:45.968911Z"
    }
   }
  },
  {
   "cell_type": "code",
   "execution_count": 16,
   "outputs": [
    {
     "data": {
      "text/plain": "     Rating                            Name Symbol  \\\n0         A           Whirlpool Corporation    WHR   \n1       BBB           Whirlpool Corporation    WHR   \n2       BBB           Whirlpool Corporation    WHR   \n3       BBB           Whirlpool Corporation    WHR   \n4       BBB           Whirlpool Corporation    WHR   \n...     ...                             ...    ...   \n1796     AA                   Gartner, Inc.     IT   \n1797      B  SBA Communications Corporation   SBAC   \n1798     AA            Imperial Oil Limited    IMO   \n1799    BBB                       NVR, Inc.    NVR   \n1800     BB     Kaiser Aluminum Corporation   KALU   \n\n                      Rating Agency Name        Date             Sector  \\\n0             Egan-Jones Ratings Company  11/27/2015  Consumer Durables   \n1             Egan-Jones Ratings Company   2/13/2014  Consumer Durables   \n2                          Fitch Ratings    3/6/2015  Consumer Durables   \n3                          Fitch Ratings   6/15/2012  Consumer Durables   \n4     Standard & Poor's Ratings Services  10/24/2016  Consumer Durables   \n...                                  ...         ...                ...   \n1796          Egan-Jones Ratings Company   2/18/2016  Consumer Services   \n1797  Standard & Poor's Ratings Services   8/28/2013  Consumer Services   \n1798                                DBRS   10/7/2016             Energy   \n1799           Moody's Investors Service    9/5/2012      Capital Goods   \n1800  Standard & Poor's Ratings Services   4/28/2016      Capital Goods   \n\n      currentRatio  quickRatio  cashRatio  daysOfSalesOutstanding  ...  \\\n0         0.945894    0.426395   0.099690               44.203245  ...   \n1         1.033559    0.498234   0.203120               38.991156  ...   \n2         0.963703    0.451505   0.122099               50.841385  ...   \n3         1.019851    0.510402   0.176116               41.161738  ...   \n4         0.957844    0.495432   0.141608               47.761126  ...   \n...            ...         ...        ...                     ...  ...   \n1796      0.862111    0.720623   0.281812               97.999541  ...   \n1797      0.459629    0.266021   0.163323               19.955103  ...   \n1798      0.986608    0.886943   0.100695               26.994041  ...   \n1799     11.757767    7.115059   7.057420                1.079762  ...   \n1800      2.962788    1.294743   0.428234               30.602414  ...   \n\n      freeCashFlowPerShare  cashPerShare  companyEquityMultiplier  \\\n0                 6.810673      9.809403                 4.008012   \n1                 8.625473     17.402270                 3.156783   \n2                 9.693487     13.103448                 4.094575   \n3                -1.015625     14.440104                 3.630950   \n4                 7.135348     14.257556                 4.012780   \n...                    ...           ...                      ...   \n1796              4.121082      4.448027               -16.425121   \n1797              2.572565      0.998349                19.002336   \n1798              1.111373      1.676498                 1.664762   \n1799             50.293155    230.194971                 1.759461   \n1800              5.563630      5.958956                 1.614282   \n\n      ebitPerRevenue  enterpriseValueMultiple  operatingCashFlowPerShare  \\\n0           0.049351                 7.057088                  15.565438   \n1           0.048857                 6.460618                  15.914250   \n2           0.044334                10.491970                  18.888889   \n3          -0.012858                 4.080741                   6.901042   \n4           0.053770                 8.293505                  15.808147   \n...              ...                      ...                        ...   \n1796        0.125846                23.234839                   4.121082   \n1797       -0.043850                22.537466                   3.894427   \n1798        0.089347                 7.977219                   2.377301   \n1799        0.086376                15.867701                  52.760726   \n1800       -0.267117                -4.729967                   9.232021   \n\n      operatingCashFlowSalesRatio  payablesTurnover      CIK  \\\n0                        0.058638          3.906655   106640   \n1                        0.067239          4.002846   106640   \n2                        0.074426          3.483510   106640   \n3                        0.028394          4.581150   106640   \n4                        0.058065          3.857790   106640   \n...                           ...               ...      ...   \n1796                     0.159756          2.164291   749251   \n1797                     0.381332         16.799152  1034054   \n1798                     0.073664          0.000000    49938   \n1799                     0.083018         15.758348   906163   \n1800                     0.114089         14.542373   811596   \n\n                                                secText  \n0     \\nABOUT WHIRLPOOL\\n\\nWhirlpool is the number o...  \n1     \\nABOUT WHIRLPOOL\\n\\nWhirlpool Corporation (Wh...  \n2     \\nABOUT WHIRLPOOL\\n\\nWhirlpool Corporation (Wh...  \n3     \\nABOUT WHIRLPOOL\\n\\nWhirlpool Corporation (Wh...  \n4     \\nABOUT WHIRLPOOL\\n\\nWhirlpool Corporation (\"W...  \n...                                                 ...  \n1796  \\nThe purpose of the following Managements Dis...  \n1797  \\nWe are a leading independent owner and opera...  \n1798  Item 2. Managements Discussion and Analysis of...  \n1799  Item 2. Managements Discussion and Analysis of...  \n1800  Item 2. Managements Discussion and Analysis of...  \n\n[1801 rows x 33 columns]",
      "text/html": "<div>\n<style scoped>\n    .dataframe tbody tr th:only-of-type {\n        vertical-align: middle;\n    }\n\n    .dataframe tbody tr th {\n        vertical-align: top;\n    }\n\n    .dataframe thead th {\n        text-align: right;\n    }\n</style>\n<table border=\"1\" class=\"dataframe\">\n  <thead>\n    <tr style=\"text-align: right;\">\n      <th></th>\n      <th>Rating</th>\n      <th>Name</th>\n      <th>Symbol</th>\n      <th>Rating Agency Name</th>\n      <th>Date</th>\n      <th>Sector</th>\n      <th>currentRatio</th>\n      <th>quickRatio</th>\n      <th>cashRatio</th>\n      <th>daysOfSalesOutstanding</th>\n      <th>...</th>\n      <th>freeCashFlowPerShare</th>\n      <th>cashPerShare</th>\n      <th>companyEquityMultiplier</th>\n      <th>ebitPerRevenue</th>\n      <th>enterpriseValueMultiple</th>\n      <th>operatingCashFlowPerShare</th>\n      <th>operatingCashFlowSalesRatio</th>\n      <th>payablesTurnover</th>\n      <th>CIK</th>\n      <th>secText</th>\n    </tr>\n  </thead>\n  <tbody>\n    <tr>\n      <th>0</th>\n      <td>A</td>\n      <td>Whirlpool Corporation</td>\n      <td>WHR</td>\n      <td>Egan-Jones Ratings Company</td>\n      <td>11/27/2015</td>\n      <td>Consumer Durables</td>\n      <td>0.945894</td>\n      <td>0.426395</td>\n      <td>0.099690</td>\n      <td>44.203245</td>\n      <td>...</td>\n      <td>6.810673</td>\n      <td>9.809403</td>\n      <td>4.008012</td>\n      <td>0.049351</td>\n      <td>7.057088</td>\n      <td>15.565438</td>\n      <td>0.058638</td>\n      <td>3.906655</td>\n      <td>106640</td>\n      <td>\\nABOUT WHIRLPOOL\\n\\nWhirlpool is the number o...</td>\n    </tr>\n    <tr>\n      <th>1</th>\n      <td>BBB</td>\n      <td>Whirlpool Corporation</td>\n      <td>WHR</td>\n      <td>Egan-Jones Ratings Company</td>\n      <td>2/13/2014</td>\n      <td>Consumer Durables</td>\n      <td>1.033559</td>\n      <td>0.498234</td>\n      <td>0.203120</td>\n      <td>38.991156</td>\n      <td>...</td>\n      <td>8.625473</td>\n      <td>17.402270</td>\n      <td>3.156783</td>\n      <td>0.048857</td>\n      <td>6.460618</td>\n      <td>15.914250</td>\n      <td>0.067239</td>\n      <td>4.002846</td>\n      <td>106640</td>\n      <td>\\nABOUT WHIRLPOOL\\n\\nWhirlpool Corporation (Wh...</td>\n    </tr>\n    <tr>\n      <th>2</th>\n      <td>BBB</td>\n      <td>Whirlpool Corporation</td>\n      <td>WHR</td>\n      <td>Fitch Ratings</td>\n      <td>3/6/2015</td>\n      <td>Consumer Durables</td>\n      <td>0.963703</td>\n      <td>0.451505</td>\n      <td>0.122099</td>\n      <td>50.841385</td>\n      <td>...</td>\n      <td>9.693487</td>\n      <td>13.103448</td>\n      <td>4.094575</td>\n      <td>0.044334</td>\n      <td>10.491970</td>\n      <td>18.888889</td>\n      <td>0.074426</td>\n      <td>3.483510</td>\n      <td>106640</td>\n      <td>\\nABOUT WHIRLPOOL\\n\\nWhirlpool Corporation (Wh...</td>\n    </tr>\n    <tr>\n      <th>3</th>\n      <td>BBB</td>\n      <td>Whirlpool Corporation</td>\n      <td>WHR</td>\n      <td>Fitch Ratings</td>\n      <td>6/15/2012</td>\n      <td>Consumer Durables</td>\n      <td>1.019851</td>\n      <td>0.510402</td>\n      <td>0.176116</td>\n      <td>41.161738</td>\n      <td>...</td>\n      <td>-1.015625</td>\n      <td>14.440104</td>\n      <td>3.630950</td>\n      <td>-0.012858</td>\n      <td>4.080741</td>\n      <td>6.901042</td>\n      <td>0.028394</td>\n      <td>4.581150</td>\n      <td>106640</td>\n      <td>\\nABOUT WHIRLPOOL\\n\\nWhirlpool Corporation (Wh...</td>\n    </tr>\n    <tr>\n      <th>4</th>\n      <td>BBB</td>\n      <td>Whirlpool Corporation</td>\n      <td>WHR</td>\n      <td>Standard &amp; Poor's Ratings Services</td>\n      <td>10/24/2016</td>\n      <td>Consumer Durables</td>\n      <td>0.957844</td>\n      <td>0.495432</td>\n      <td>0.141608</td>\n      <td>47.761126</td>\n      <td>...</td>\n      <td>7.135348</td>\n      <td>14.257556</td>\n      <td>4.012780</td>\n      <td>0.053770</td>\n      <td>8.293505</td>\n      <td>15.808147</td>\n      <td>0.058065</td>\n      <td>3.857790</td>\n      <td>106640</td>\n      <td>\\nABOUT WHIRLPOOL\\n\\nWhirlpool Corporation (\"W...</td>\n    </tr>\n    <tr>\n      <th>...</th>\n      <td>...</td>\n      <td>...</td>\n      <td>...</td>\n      <td>...</td>\n      <td>...</td>\n      <td>...</td>\n      <td>...</td>\n      <td>...</td>\n      <td>...</td>\n      <td>...</td>\n      <td>...</td>\n      <td>...</td>\n      <td>...</td>\n      <td>...</td>\n      <td>...</td>\n      <td>...</td>\n      <td>...</td>\n      <td>...</td>\n      <td>...</td>\n      <td>...</td>\n      <td>...</td>\n    </tr>\n    <tr>\n      <th>1796</th>\n      <td>AA</td>\n      <td>Gartner, Inc.</td>\n      <td>IT</td>\n      <td>Egan-Jones Ratings Company</td>\n      <td>2/18/2016</td>\n      <td>Consumer Services</td>\n      <td>0.862111</td>\n      <td>0.720623</td>\n      <td>0.281812</td>\n      <td>97.999541</td>\n      <td>...</td>\n      <td>4.121082</td>\n      <td>4.448027</td>\n      <td>-16.425121</td>\n      <td>0.125846</td>\n      <td>23.234839</td>\n      <td>4.121082</td>\n      <td>0.159756</td>\n      <td>2.164291</td>\n      <td>749251</td>\n      <td>\\nThe purpose of the following Managements Dis...</td>\n    </tr>\n    <tr>\n      <th>1797</th>\n      <td>B</td>\n      <td>SBA Communications Corporation</td>\n      <td>SBAC</td>\n      <td>Standard &amp; Poor's Ratings Services</td>\n      <td>8/28/2013</td>\n      <td>Consumer Services</td>\n      <td>0.459629</td>\n      <td>0.266021</td>\n      <td>0.163323</td>\n      <td>19.955103</td>\n      <td>...</td>\n      <td>2.572565</td>\n      <td>0.998349</td>\n      <td>19.002336</td>\n      <td>-0.043850</td>\n      <td>22.537466</td>\n      <td>3.894427</td>\n      <td>0.381332</td>\n      <td>16.799152</td>\n      <td>1034054</td>\n      <td>\\nWe are a leading independent owner and opera...</td>\n    </tr>\n    <tr>\n      <th>1798</th>\n      <td>AA</td>\n      <td>Imperial Oil Limited</td>\n      <td>IMO</td>\n      <td>DBRS</td>\n      <td>10/7/2016</td>\n      <td>Energy</td>\n      <td>0.986608</td>\n      <td>0.886943</td>\n      <td>0.100695</td>\n      <td>26.994041</td>\n      <td>...</td>\n      <td>1.111373</td>\n      <td>1.676498</td>\n      <td>1.664762</td>\n      <td>0.089347</td>\n      <td>7.977219</td>\n      <td>2.377301</td>\n      <td>0.073664</td>\n      <td>0.000000</td>\n      <td>49938</td>\n      <td>Item 2. Managements Discussion and Analysis of...</td>\n    </tr>\n    <tr>\n      <th>1799</th>\n      <td>BBB</td>\n      <td>NVR, Inc.</td>\n      <td>NVR</td>\n      <td>Moody's Investors Service</td>\n      <td>9/5/2012</td>\n      <td>Capital Goods</td>\n      <td>11.757767</td>\n      <td>7.115059</td>\n      <td>7.057420</td>\n      <td>1.079762</td>\n      <td>...</td>\n      <td>50.293155</td>\n      <td>230.194971</td>\n      <td>1.759461</td>\n      <td>0.086376</td>\n      <td>15.867701</td>\n      <td>52.760726</td>\n      <td>0.083018</td>\n      <td>15.758348</td>\n      <td>906163</td>\n      <td>Item 2. Managements Discussion and Analysis of...</td>\n    </tr>\n    <tr>\n      <th>1800</th>\n      <td>BB</td>\n      <td>Kaiser Aluminum Corporation</td>\n      <td>KALU</td>\n      <td>Standard &amp; Poor's Ratings Services</td>\n      <td>4/28/2016</td>\n      <td>Capital Goods</td>\n      <td>2.962788</td>\n      <td>1.294743</td>\n      <td>0.428234</td>\n      <td>30.602414</td>\n      <td>...</td>\n      <td>5.563630</td>\n      <td>5.958956</td>\n      <td>1.614282</td>\n      <td>-0.267117</td>\n      <td>-4.729967</td>\n      <td>9.232021</td>\n      <td>0.114089</td>\n      <td>14.542373</td>\n      <td>811596</td>\n      <td>Item 2. Managements Discussion and Analysis of...</td>\n    </tr>\n  </tbody>\n</table>\n<p>1801 rows × 33 columns</p>\n</div>"
     },
     "execution_count": 16,
     "metadata": {},
     "output_type": "execute_result"
    }
   ],
   "source": [
    "corp_rating_sec_df = corp_rating_sec_df.drop(columns=['Item2', 'Item7', 'Item7A', 'Item1A', 'Item1'])\n",
    "corp_rating_sec_df"
   ],
   "metadata": {
    "collapsed": false,
    "ExecuteTime": {
     "start_time": "2023-03-31T21:34:45.970810Z",
     "end_time": "2023-03-31T21:34:46.033696Z"
    }
   }
  },
  {
   "cell_type": "code",
   "execution_count": 17,
   "outputs": [],
   "source": [
    "corp_rating_sec_df.to_csv('../../data/cr_sec_ori/corporate_rating_with_cik_and_sec_merged_text.csv')"
   ],
   "metadata": {
    "collapsed": false,
    "ExecuteTime": {
     "start_time": "2023-03-31T21:34:46.013139Z",
     "end_time": "2023-03-31T21:34:48.450100Z"
    }
   }
  },
  {
   "cell_type": "code",
   "execution_count": 17,
   "outputs": [],
   "source": [],
   "metadata": {
    "collapsed": false,
    "ExecuteTime": {
     "start_time": "2023-03-31T21:34:48.450338Z",
     "end_time": "2023-03-31T21:34:48.451991Z"
    }
   }
  }
 ],
 "metadata": {
  "kernelspec": {
   "display_name": "Python 3",
   "language": "python",
   "name": "python3"
  },
  "language_info": {
   "codemirror_mode": {
    "name": "ipython",
    "version": 2
   },
   "file_extension": ".py",
   "mimetype": "text/x-python",
   "name": "python",
   "nbconvert_exporter": "python",
   "pygments_lexer": "ipython2",
   "version": "2.7.6"
  }
 },
 "nbformat": 4,
 "nbformat_minor": 0
}
