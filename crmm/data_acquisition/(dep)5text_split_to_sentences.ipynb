{
 "cells": [
  {
   "cell_type": "code",
   "execution_count": 1,
   "outputs": [],
   "source": [
    "import re\n",
    "import pandas as pd\n",
    "from nltk import tokenize"
   ],
   "metadata": {
    "collapsed": false
   }
  },
  {
   "cell_type": "code",
   "execution_count": 2,
   "outputs": [],
   "source": [
    "# -*- coding: utf-8 -*-\n",
    "\n",
    "alphabets= \"([A-Za-z])\"\n",
    "prefixes = \"(Mr|St|Mrs|Ms|Dr)[.]\"\n",
    "suffixes = \"(Inc|Ltd|Jr|Sr|Co)\"\n",
    "starters = \"(Mr|Mrs|Ms|Dr|He\\s|She\\s|It\\s|They\\s|Their\\s|Our\\s|We\\s|But\\s|However\\s|That\\s|This\\s|Wherever)\"\n",
    "acronyms = \"([A-Z][.][A-Z][.](?:[A-Z][.])?)\"\n",
    "websites = \"[.](com|net|org|io|gov)\"\n",
    "digits = \"([0-9])\"\n",
    "\n",
    "def split_into_sentences(text):\n",
    "    text = \" \" + text + \"  \"\n",
    "    text = text.replace(\"\\n\",\" \")\n",
    "    text = re.sub(prefixes,\"\\\\1<prd>\",text)\n",
    "    text = re.sub(websites,\"<prd>\\\\1\",text)\n",
    "    text = re.sub(digits + \"[.]\" + digits,\"\\\\1<prd>\\\\2\",text)\n",
    "    if \"...\" in text: text = text.replace(\"...\",\"<prd><prd><prd>\")\n",
    "    if \"Ph.D\" in text: text = text.replace(\"Ph.D.\",\"Ph<prd>D<prd>\")\n",
    "    text = re.sub(\"\\s\" + alphabets + \"[.] \",\" \\\\1<prd> \",text)\n",
    "    text = re.sub(acronyms+\" \"+starters,\"\\\\1<stop> \\\\2\",text)\n",
    "    text = re.sub(alphabets + \"[.]\" + alphabets + \"[.]\" + alphabets + \"[.]\",\"\\\\1<prd>\\\\2<prd>\\\\3<prd>\",text)\n",
    "    text = re.sub(alphabets + \"[.]\" + alphabets + \"[.]\",\"\\\\1<prd>\\\\2<prd>\",text)\n",
    "    text = re.sub(\" \"+suffixes+\"[.] \"+starters,\" \\\\1<stop> \\\\2\",text)\n",
    "    text = re.sub(\" \"+suffixes+\"[.]\",\" \\\\1<prd>\",text)\n",
    "    text = re.sub(\" \" + alphabets + \"[.]\",\" \\\\1<prd>\",text)\n",
    "    if \"”\" in text: text = text.replace(\".”\",\"”.\")\n",
    "    if \"\\\"\" in text: text = text.replace(\".\\\"\",\"\\\".\")\n",
    "    if \"!\" in text: text = text.replace(\"!\\\"\",\"\\\"!\")\n",
    "    if \"?\" in text: text = text.replace(\"?\\\"\",\"\\\"?\")\n",
    "    text = text.replace(\".\",\".<stop>\")\n",
    "    text = text.replace(\"?\",\"?<stop>\")\n",
    "    text = text.replace(\"!\",\"!<stop>\")\n",
    "    text = text.replace(\"<prd>\",\".\")\n",
    "    sentences = text.split(\"<stop>\")\n",
    "    sentences = sentences[:-1]\n",
    "    sentences = [s.strip() for s in sentences]\n",
    "    return sentences"
   ],
   "metadata": {
    "collapsed": false
   }
  },
  {
   "cell_type": "markdown",
   "source": [
    "这里dataframe自带的index和id对不上是因为，前面merge里drop了na的row"
   ],
   "metadata": {
    "collapsed": false
   }
  },
  {
   "cell_type": "code",
   "execution_count": 3,
   "outputs": [
    {
     "data": {
      "text/plain": "        Id Rating                            Name Symbol  \\\n0        0      A           Whirlpool Corporation    WHR   \n1        1    BBB           Whirlpool Corporation    WHR   \n2        2    BBB           Whirlpool Corporation    WHR   \n3        3    BBB           Whirlpool Corporation    WHR   \n4        4    BBB           Whirlpool Corporation    WHR   \n...    ...    ...                             ...    ...   \n1796  2020     AA                   Gartner, Inc.     IT   \n1797  2021      B  SBA Communications Corporation   SBAC   \n1798  2023     AA            Imperial Oil Limited    IMO   \n1799  2024    BBB                       NVR, Inc.    NVR   \n1800  2025     BB     Kaiser Aluminum Corporation   KALU   \n\n                      Rating Agency Name        Date             Sector  \\\n0             Egan-Jones Ratings Company  11/27/2015  Consumer Durables   \n1             Egan-Jones Ratings Company   2/13/2014  Consumer Durables   \n2                          Fitch Ratings    3/6/2015  Consumer Durables   \n3                          Fitch Ratings   6/15/2012  Consumer Durables   \n4     Standard & Poor's Ratings Services  10/24/2016  Consumer Durables   \n...                                  ...         ...                ...   \n1796          Egan-Jones Ratings Company   2/18/2016  Consumer Services   \n1797  Standard & Poor's Ratings Services   8/28/2013  Consumer Services   \n1798                                DBRS   10/7/2016             Energy   \n1799           Moody's Investors Service    9/5/2012      Capital Goods   \n1800  Standard & Poor's Ratings Services   4/28/2016      Capital Goods   \n\n      currentRatio  quickRatio  cashRatio  ...  freeCashFlowPerShare  \\\n0         0.945894    0.426395   0.099690  ...              6.810673   \n1         1.033559    0.498234   0.203120  ...              8.625473   \n2         0.963703    0.451505   0.122099  ...              9.693487   \n3         1.019851    0.510402   0.176116  ...             -1.015625   \n4         0.957844    0.495432   0.141608  ...              7.135348   \n...            ...         ...        ...  ...                   ...   \n1796      0.862111    0.720623   0.281812  ...              4.121082   \n1797      0.459629    0.266021   0.163323  ...              2.572565   \n1798      0.986608    0.886943   0.100695  ...              1.111373   \n1799     11.757767    7.115059   7.057420  ...             50.293155   \n1800      2.962788    1.294743   0.428234  ...              5.563630   \n\n      cashPerShare  companyEquityMultiplier  ebitPerRevenue  \\\n0         9.809403                 4.008012        0.049351   \n1        17.402270                 3.156783        0.048857   \n2        13.103448                 4.094575        0.044334   \n3        14.440104                 3.630950       -0.012858   \n4        14.257556                 4.012780        0.053770   \n...            ...                      ...             ...   \n1796      4.448027               -16.425121        0.125846   \n1797      0.998349                19.002336       -0.043850   \n1798      1.676498                 1.664762        0.089347   \n1799    230.194971                 1.759461        0.086376   \n1800      5.958956                 1.614282       -0.267117   \n\n      enterpriseValueMultiple  operatingCashFlowPerShare  \\\n0                    7.057088                  15.565438   \n1                    6.460618                  15.914250   \n2                   10.491970                  18.888889   \n3                    4.080741                   6.901042   \n4                    8.293505                  15.808147   \n...                       ...                        ...   \n1796                23.234839                   4.121082   \n1797                22.537466                   3.894427   \n1798                 7.977219                   2.377301   \n1799                15.867701                  52.760726   \n1800                -4.729967                   9.232021   \n\n      operatingCashFlowSalesRatio  payablesTurnover      CIK  \\\n0                        0.058638          3.906655   106640   \n1                        0.067239          4.002846   106640   \n2                        0.074426          3.483510   106640   \n3                        0.028394          4.581150   106640   \n4                        0.058065          3.857790   106640   \n...                           ...               ...      ...   \n1796                     0.159756          2.164291   749251   \n1797                     0.381332         16.799152  1034054   \n1798                     0.073664          0.000000    49938   \n1799                     0.083018         15.758348   906163   \n1800                     0.114089         14.542373   811596   \n\n                                                secText  \n0     \\nABOUT WHIRLPOOL\\n\\nWhirlpool is the number o...  \n1     \\nABOUT WHIRLPOOL\\n\\nWhirlpool Corporation (Wh...  \n2     \\nABOUT WHIRLPOOL\\n\\nWhirlpool Corporation (Wh...  \n3     \\nABOUT WHIRLPOOL\\n\\nWhirlpool Corporation (Wh...  \n4     \\nABOUT WHIRLPOOL\\n\\nWhirlpool Corporation (\"W...  \n...                                                 ...  \n1796  \\nThe purpose of the following Managements Dis...  \n1797  \\nWe are a leading independent owner and opera...  \n1798  Item 2. Managements Discussion and Analysis of...  \n1799  Item 2. Managements Discussion and Analysis of...  \n1800  Item 2. Management's Discussion and Analysis o...  \n\n[1801 rows x 34 columns]",
      "text/html": "<div>\n<style scoped>\n    .dataframe tbody tr th:only-of-type {\n        vertical-align: middle;\n    }\n\n    .dataframe tbody tr th {\n        vertical-align: top;\n    }\n\n    .dataframe thead th {\n        text-align: right;\n    }\n</style>\n<table border=\"1\" class=\"dataframe\">\n  <thead>\n    <tr style=\"text-align: right;\">\n      <th></th>\n      <th>Id</th>\n      <th>Rating</th>\n      <th>Name</th>\n      <th>Symbol</th>\n      <th>Rating Agency Name</th>\n      <th>Date</th>\n      <th>Sector</th>\n      <th>currentRatio</th>\n      <th>quickRatio</th>\n      <th>cashRatio</th>\n      <th>...</th>\n      <th>freeCashFlowPerShare</th>\n      <th>cashPerShare</th>\n      <th>companyEquityMultiplier</th>\n      <th>ebitPerRevenue</th>\n      <th>enterpriseValueMultiple</th>\n      <th>operatingCashFlowPerShare</th>\n      <th>operatingCashFlowSalesRatio</th>\n      <th>payablesTurnover</th>\n      <th>CIK</th>\n      <th>secText</th>\n    </tr>\n  </thead>\n  <tbody>\n    <tr>\n      <th>0</th>\n      <td>0</td>\n      <td>A</td>\n      <td>Whirlpool Corporation</td>\n      <td>WHR</td>\n      <td>Egan-Jones Ratings Company</td>\n      <td>11/27/2015</td>\n      <td>Consumer Durables</td>\n      <td>0.945894</td>\n      <td>0.426395</td>\n      <td>0.099690</td>\n      <td>...</td>\n      <td>6.810673</td>\n      <td>9.809403</td>\n      <td>4.008012</td>\n      <td>0.049351</td>\n      <td>7.057088</td>\n      <td>15.565438</td>\n      <td>0.058638</td>\n      <td>3.906655</td>\n      <td>106640</td>\n      <td>\\nABOUT WHIRLPOOL\\n\\nWhirlpool is the number o...</td>\n    </tr>\n    <tr>\n      <th>1</th>\n      <td>1</td>\n      <td>BBB</td>\n      <td>Whirlpool Corporation</td>\n      <td>WHR</td>\n      <td>Egan-Jones Ratings Company</td>\n      <td>2/13/2014</td>\n      <td>Consumer Durables</td>\n      <td>1.033559</td>\n      <td>0.498234</td>\n      <td>0.203120</td>\n      <td>...</td>\n      <td>8.625473</td>\n      <td>17.402270</td>\n      <td>3.156783</td>\n      <td>0.048857</td>\n      <td>6.460618</td>\n      <td>15.914250</td>\n      <td>0.067239</td>\n      <td>4.002846</td>\n      <td>106640</td>\n      <td>\\nABOUT WHIRLPOOL\\n\\nWhirlpool Corporation (Wh...</td>\n    </tr>\n    <tr>\n      <th>2</th>\n      <td>2</td>\n      <td>BBB</td>\n      <td>Whirlpool Corporation</td>\n      <td>WHR</td>\n      <td>Fitch Ratings</td>\n      <td>3/6/2015</td>\n      <td>Consumer Durables</td>\n      <td>0.963703</td>\n      <td>0.451505</td>\n      <td>0.122099</td>\n      <td>...</td>\n      <td>9.693487</td>\n      <td>13.103448</td>\n      <td>4.094575</td>\n      <td>0.044334</td>\n      <td>10.491970</td>\n      <td>18.888889</td>\n      <td>0.074426</td>\n      <td>3.483510</td>\n      <td>106640</td>\n      <td>\\nABOUT WHIRLPOOL\\n\\nWhirlpool Corporation (Wh...</td>\n    </tr>\n    <tr>\n      <th>3</th>\n      <td>3</td>\n      <td>BBB</td>\n      <td>Whirlpool Corporation</td>\n      <td>WHR</td>\n      <td>Fitch Ratings</td>\n      <td>6/15/2012</td>\n      <td>Consumer Durables</td>\n      <td>1.019851</td>\n      <td>0.510402</td>\n      <td>0.176116</td>\n      <td>...</td>\n      <td>-1.015625</td>\n      <td>14.440104</td>\n      <td>3.630950</td>\n      <td>-0.012858</td>\n      <td>4.080741</td>\n      <td>6.901042</td>\n      <td>0.028394</td>\n      <td>4.581150</td>\n      <td>106640</td>\n      <td>\\nABOUT WHIRLPOOL\\n\\nWhirlpool Corporation (Wh...</td>\n    </tr>\n    <tr>\n      <th>4</th>\n      <td>4</td>\n      <td>BBB</td>\n      <td>Whirlpool Corporation</td>\n      <td>WHR</td>\n      <td>Standard &amp; Poor's Ratings Services</td>\n      <td>10/24/2016</td>\n      <td>Consumer Durables</td>\n      <td>0.957844</td>\n      <td>0.495432</td>\n      <td>0.141608</td>\n      <td>...</td>\n      <td>7.135348</td>\n      <td>14.257556</td>\n      <td>4.012780</td>\n      <td>0.053770</td>\n      <td>8.293505</td>\n      <td>15.808147</td>\n      <td>0.058065</td>\n      <td>3.857790</td>\n      <td>106640</td>\n      <td>\\nABOUT WHIRLPOOL\\n\\nWhirlpool Corporation (\"W...</td>\n    </tr>\n    <tr>\n      <th>...</th>\n      <td>...</td>\n      <td>...</td>\n      <td>...</td>\n      <td>...</td>\n      <td>...</td>\n      <td>...</td>\n      <td>...</td>\n      <td>...</td>\n      <td>...</td>\n      <td>...</td>\n      <td>...</td>\n      <td>...</td>\n      <td>...</td>\n      <td>...</td>\n      <td>...</td>\n      <td>...</td>\n      <td>...</td>\n      <td>...</td>\n      <td>...</td>\n      <td>...</td>\n      <td>...</td>\n    </tr>\n    <tr>\n      <th>1796</th>\n      <td>2020</td>\n      <td>AA</td>\n      <td>Gartner, Inc.</td>\n      <td>IT</td>\n      <td>Egan-Jones Ratings Company</td>\n      <td>2/18/2016</td>\n      <td>Consumer Services</td>\n      <td>0.862111</td>\n      <td>0.720623</td>\n      <td>0.281812</td>\n      <td>...</td>\n      <td>4.121082</td>\n      <td>4.448027</td>\n      <td>-16.425121</td>\n      <td>0.125846</td>\n      <td>23.234839</td>\n      <td>4.121082</td>\n      <td>0.159756</td>\n      <td>2.164291</td>\n      <td>749251</td>\n      <td>\\nThe purpose of the following Managements Dis...</td>\n    </tr>\n    <tr>\n      <th>1797</th>\n      <td>2021</td>\n      <td>B</td>\n      <td>SBA Communications Corporation</td>\n      <td>SBAC</td>\n      <td>Standard &amp; Poor's Ratings Services</td>\n      <td>8/28/2013</td>\n      <td>Consumer Services</td>\n      <td>0.459629</td>\n      <td>0.266021</td>\n      <td>0.163323</td>\n      <td>...</td>\n      <td>2.572565</td>\n      <td>0.998349</td>\n      <td>19.002336</td>\n      <td>-0.043850</td>\n      <td>22.537466</td>\n      <td>3.894427</td>\n      <td>0.381332</td>\n      <td>16.799152</td>\n      <td>1034054</td>\n      <td>\\nWe are a leading independent owner and opera...</td>\n    </tr>\n    <tr>\n      <th>1798</th>\n      <td>2023</td>\n      <td>AA</td>\n      <td>Imperial Oil Limited</td>\n      <td>IMO</td>\n      <td>DBRS</td>\n      <td>10/7/2016</td>\n      <td>Energy</td>\n      <td>0.986608</td>\n      <td>0.886943</td>\n      <td>0.100695</td>\n      <td>...</td>\n      <td>1.111373</td>\n      <td>1.676498</td>\n      <td>1.664762</td>\n      <td>0.089347</td>\n      <td>7.977219</td>\n      <td>2.377301</td>\n      <td>0.073664</td>\n      <td>0.000000</td>\n      <td>49938</td>\n      <td>Item 2. Managements Discussion and Analysis of...</td>\n    </tr>\n    <tr>\n      <th>1799</th>\n      <td>2024</td>\n      <td>BBB</td>\n      <td>NVR, Inc.</td>\n      <td>NVR</td>\n      <td>Moody's Investors Service</td>\n      <td>9/5/2012</td>\n      <td>Capital Goods</td>\n      <td>11.757767</td>\n      <td>7.115059</td>\n      <td>7.057420</td>\n      <td>...</td>\n      <td>50.293155</td>\n      <td>230.194971</td>\n      <td>1.759461</td>\n      <td>0.086376</td>\n      <td>15.867701</td>\n      <td>52.760726</td>\n      <td>0.083018</td>\n      <td>15.758348</td>\n      <td>906163</td>\n      <td>Item 2. Managements Discussion and Analysis of...</td>\n    </tr>\n    <tr>\n      <th>1800</th>\n      <td>2025</td>\n      <td>BB</td>\n      <td>Kaiser Aluminum Corporation</td>\n      <td>KALU</td>\n      <td>Standard &amp; Poor's Ratings Services</td>\n      <td>4/28/2016</td>\n      <td>Capital Goods</td>\n      <td>2.962788</td>\n      <td>1.294743</td>\n      <td>0.428234</td>\n      <td>...</td>\n      <td>5.563630</td>\n      <td>5.958956</td>\n      <td>1.614282</td>\n      <td>-0.267117</td>\n      <td>-4.729967</td>\n      <td>9.232021</td>\n      <td>0.114089</td>\n      <td>14.542373</td>\n      <td>811596</td>\n      <td>Item 2. Management's Discussion and Analysis o...</td>\n    </tr>\n  </tbody>\n</table>\n<p>1801 rows × 34 columns</p>\n</div>"
     },
     "execution_count": 3,
     "metadata": {},
     "output_type": "execute_result"
    }
   ],
   "source": [
    "data_df = pd.read_csv('../../data/cr_sec_ori/corporate_rating_with_cik_and_sec_merged_text.csv')\n",
    "# data_df = data_df.set_index('Id')\n",
    "data_df"
   ],
   "metadata": {
    "collapsed": false
   }
  },
  {
   "cell_type": "code",
   "execution_count": 4,
   "outputs": [
    {
     "data": {
      "text/plain": "Empty DataFrame\nColumns: [Id, Rating, Name, Symbol, Rating Agency Name, Date, Sector, currentRatio, quickRatio, cashRatio, daysOfSalesOutstanding, netProfitMargin, pretaxProfitMargin, grossProfitMargin, operatingProfitMargin, returnOnAssets, returnOnCapitalEmployed, returnOnEquity, assetTurnover, fixedAssetTurnover, debtEquityRatio, debtRatio, effectiveTaxRate, freeCashFlowOperatingCashFlowRatio, freeCashFlowPerShare, cashPerShare, companyEquityMultiplier, ebitPerRevenue, enterpriseValueMultiple, operatingCashFlowPerShare, operatingCashFlowSalesRatio, payablesTurnover, CIK, secText]\nIndex: []\n\n[0 rows x 34 columns]",
      "text/html": "<div>\n<style scoped>\n    .dataframe tbody tr th:only-of-type {\n        vertical-align: middle;\n    }\n\n    .dataframe tbody tr th {\n        vertical-align: top;\n    }\n\n    .dataframe thead th {\n        text-align: right;\n    }\n</style>\n<table border=\"1\" class=\"dataframe\">\n  <thead>\n    <tr style=\"text-align: right;\">\n      <th></th>\n      <th>Id</th>\n      <th>Rating</th>\n      <th>Name</th>\n      <th>Symbol</th>\n      <th>Rating Agency Name</th>\n      <th>Date</th>\n      <th>Sector</th>\n      <th>currentRatio</th>\n      <th>quickRatio</th>\n      <th>cashRatio</th>\n      <th>...</th>\n      <th>freeCashFlowPerShare</th>\n      <th>cashPerShare</th>\n      <th>companyEquityMultiplier</th>\n      <th>ebitPerRevenue</th>\n      <th>enterpriseValueMultiple</th>\n      <th>operatingCashFlowPerShare</th>\n      <th>operatingCashFlowSalesRatio</th>\n      <th>payablesTurnover</th>\n      <th>CIK</th>\n      <th>secText</th>\n    </tr>\n  </thead>\n  <tbody>\n  </tbody>\n</table>\n<p>0 rows × 34 columns</p>\n</div>"
     },
     "execution_count": 4,
     "metadata": {},
     "output_type": "execute_result"
    }
   ],
   "source": [
    "split_sec_data_df = pd.DataFrame(columns=data_df.columns)\n",
    "split_sec_data_df"
   ],
   "metadata": {
    "collapsed": false
   }
  },
  {
   "cell_type": "code",
   "execution_count": 5,
   "outputs": [],
   "source": [
    "import warnings\n",
    "\n",
    "# import nltk\n",
    "# nltk.download('punkt')\n",
    "warnings.filterwarnings('ignore')"
   ],
   "metadata": {
    "collapsed": false
   }
  },
  {
   "cell_type": "code",
   "execution_count": 5,
   "outputs": [],
   "source": [],
   "metadata": {
    "collapsed": false
   }
  },
  {
   "cell_type": "code",
   "execution_count": 6,
   "outputs": [],
   "source": [
    "def split_sec_to_sent_create_new_df(df):\n",
    "    rows = []\n",
    "    for index, row in df.iterrows():\n",
    "        except_txt = row[:-1]\n",
    "        sec_txt = row['secText']\n",
    "        # sentences = split_into_sentences(sec_txt)\n",
    "        sentences = tokenize.sent_tokenize(sec_txt)\n",
    "        for sent in sentences:\n",
    "            except_txt['secText'] = sent\n",
    "            # split_sec_data_df = pd.concat([split_sec_data_df, except_txt], ignore_index=True)\n",
    "            # split_sec_data_df = split_sec_data_df.append(except_txt, ignore_index=True)\n",
    "            rows.append(except_txt)\n",
    "    return rows"
   ],
   "metadata": {
    "collapsed": false
   }
  },
  {
   "cell_type": "code",
   "execution_count": 7,
   "outputs": [],
   "source": [
    "import itertools\n",
    "from multiprocessing import Pool\n",
    "\n",
    "processes = 12\n",
    "\n",
    "num_row = len(data_df)\n",
    "multi_thread_tasks = []\n",
    "process_pool = Pool(processes=processes,)\n",
    "task_batch_size = int(num_row / processes + 1)\n",
    "multi_thread_tasks = []\n",
    "pno = 0\n",
    "for t in range(0, num_row, task_batch_size):\n",
    "    batch_tasks = data_df.loc[t:t + task_batch_size]\n",
    "    multi_thread_tasks.append(process_pool.apply_async(split_sec_to_sent_create_new_df,\n",
    "                                                       (batch_tasks,),\n",
    "                                                       # callback=lambda x: pbar.update(task_batch_size),\n",
    "                                                       ))\n",
    "    pno += 1\n",
    "\n",
    "exec_res = [t.get() for t in multi_thread_tasks]\n",
    "res = list(itertools.chain(*exec_res))\n",
    "process_pool.close()  # 关闭线程池清理"
   ],
   "metadata": {
    "collapsed": false
   }
  },
  {
   "cell_type": "markdown",
   "source": [],
   "metadata": {
    "collapsed": false
   }
  },
  {
   "cell_type": "code",
   "execution_count": 8,
   "outputs": [],
   "source": [
    "split_sec_data_df = pd.concat(res, ignore_index=True)"
   ],
   "metadata": {
    "collapsed": false
   }
  },
  {
   "cell_type": "code",
   "execution_count": 9,
   "outputs": [
    {
     "name": "stderr",
     "output_type": "stream",
     "text": [
      "\n",
      "KeyboardInterrupt\n",
      "\n"
     ]
    }
   ],
   "source": [
    "split_sec_data_df.to_csv('../../data/cr_sec_ori/corporate_rating_with_cik_and_sec_sentences.csv')"
   ],
   "metadata": {
    "collapsed": false
   }
  },
  {
   "cell_type": "code",
   "execution_count": null,
   "outputs": [],
   "source": [],
   "metadata": {
    "collapsed": false
   }
  }
 ],
 "metadata": {
  "kernelspec": {
   "display_name": "Python 3",
   "language": "python",
   "name": "python3"
  },
  "language_info": {
   "codemirror_mode": {
    "name": "ipython",
    "version": 2
   },
   "file_extension": ".py",
   "mimetype": "text/x-python",
   "name": "python",
   "nbconvert_exporter": "python",
   "pygments_lexer": "ipython2",
   "version": "2.7.6"
  }
 },
 "nbformat": 4,
 "nbformat_minor": 0
}
