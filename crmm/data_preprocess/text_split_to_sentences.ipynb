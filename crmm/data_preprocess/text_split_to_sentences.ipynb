{
 "cells": [
  {
   "cell_type": "code",
   "execution_count": 1,
   "metadata": {
    "collapsed": true
   },
   "outputs": [],
   "source": [
    "# -*- coding: utf-8 -*-\n",
    "import re\n",
    "alphabets= \"([A-Za-z])\"\n",
    "prefixes = \"(Mr|St|Mrs|Ms|Dr)[.]\"\n",
    "suffixes = \"(Inc|Ltd|Jr|Sr|Co)\"\n",
    "starters = \"(Mr|Mrs|Ms|Dr|He\\s|She\\s|It\\s|They\\s|Their\\s|Our\\s|We\\s|But\\s|However\\s|That\\s|This\\s|Wherever)\"\n",
    "acronyms = \"([A-Z][.][A-Z][.](?:[A-Z][.])?)\"\n",
    "websites = \"[.](com|net|org|io|gov)\"\n",
    "digits = \"([0-9])\"\n",
    "\n",
    "def split_into_sentences(text):\n",
    "    text = \" \" + text + \"  \"\n",
    "    text = text.replace(\"\\n\",\" \")\n",
    "    text = re.sub(prefixes,\"\\\\1<prd>\",text)\n",
    "    text = re.sub(websites,\"<prd>\\\\1\",text)\n",
    "    text = re.sub(digits + \"[.]\" + digits,\"\\\\1<prd>\\\\2\",text)\n",
    "    if \"...\" in text: text = text.replace(\"...\",\"<prd><prd><prd>\")\n",
    "    if \"Ph.D\" in text: text = text.replace(\"Ph.D.\",\"Ph<prd>D<prd>\")\n",
    "    text = re.sub(\"\\s\" + alphabets + \"[.] \",\" \\\\1<prd> \",text)\n",
    "    text = re.sub(acronyms+\" \"+starters,\"\\\\1<stop> \\\\2\",text)\n",
    "    text = re.sub(alphabets + \"[.]\" + alphabets + \"[.]\" + alphabets + \"[.]\",\"\\\\1<prd>\\\\2<prd>\\\\3<prd>\",text)\n",
    "    text = re.sub(alphabets + \"[.]\" + alphabets + \"[.]\",\"\\\\1<prd>\\\\2<prd>\",text)\n",
    "    text = re.sub(\" \"+suffixes+\"[.] \"+starters,\" \\\\1<stop> \\\\2\",text)\n",
    "    text = re.sub(\" \"+suffixes+\"[.]\",\" \\\\1<prd>\",text)\n",
    "    text = re.sub(\" \" + alphabets + \"[.]\",\" \\\\1<prd>\",text)\n",
    "    if \"”\" in text: text = text.replace(\".”\",\"”.\")\n",
    "    if \"\\\"\" in text: text = text.replace(\".\\\"\",\"\\\".\")\n",
    "    if \"!\" in text: text = text.replace(\"!\\\"\",\"\\\"!\")\n",
    "    if \"?\" in text: text = text.replace(\"?\\\"\",\"\\\"?\")\n",
    "    text = text.replace(\".\",\".<stop>\")\n",
    "    text = text.replace(\"?\",\"?<stop>\")\n",
    "    text = text.replace(\"!\",\"!<stop>\")\n",
    "    text = text.replace(\"<prd>\",\".\")\n",
    "    sentences = text.split(\"<stop>\")\n",
    "    sentences = sentences[:-1]\n",
    "    sentences = [s.strip() for s in sentences]\n",
    "    return sentences"
   ]
  },
  {
   "cell_type": "code",
   "execution_count": 2,
   "outputs": [],
   "source": [
    "txt = \"ITEM 2   MANAGEMENTS DISCUSSION AND ANALYSIS OF FINANCIAL CONDITION AND RESULTS OF OPERATIONS  GENERAL COMMENTS  OVERVIEW  Vulcan provides the basic materials for the infrastructure needed to expand the U.S. economy. We are the nation's largest producer of construction aggregates, primarily crushed stone, sand and gravel. We also are a major producer of asphalt mix and ready-mixed concrete as well as a leading producer of cement in Florida.  Demand for our products is dependent on construction activity. The primary end uses include public construction, such as highways, bridges, airports, schools and prisons, as well as private nonresidential (e.g., manufacturing, retail, offices, industrial and institutional) and private residential construction (e.g., single-family houses, duplexes, apartment buildings and condominiums). Customers for our products include heavy construction and paving contractors; commercial building contractors; concrete products manufacturers; residential building contractors; state, county and municipal governments; railroads and electric utilities.  We operate primarily in the United States and our principal product  aggregates  is used in virtually all types of public and private construction projects and in the production of asphalt mix and ready-mixed concrete. Aggregates have a high weight-to-value ratio and, in most cases, must be produced near where they are used; if not, transportation can cost more than the materials. Exceptions to this typical market structure include areas along the U.S. Gulf Coast and the Eastern Seaboard where there are limited supplies of locally available high quality aggregates. We serve these markets from inland quarries  shipping by barge and rail  and from our quarry on Mexico's Yucatan Peninsula. We transport aggregates from Mexico to the U.S. principally on our three Panamax-class, self-unloading ships.  There are practically no substitutes for quality aggregates. Because of barriers to entry created by zoning and permitting regulation and because of high transportation costs relative to the value of the product, the location of reserves is a critical factor to long-term success.  While aggregates is our primary business, we believe vertical integration between aggregates and downstream products, such as asphalt mix and concrete, can be managed effectively in certain markets to generate acceptable financial returns. We produce and sell asphalt mix and ready-mixed concrete primarily in our mid-Atlantic, Georgia, Florida, southwestern and western markets. Aggregates comprise approximately 95% of asphalt mix by weight and 78% of ready-mixed concrete by weight. In all of these downstream businesses, we supply virtually all of the required aggregates from our own operations.  SEASONALITY AND CYCLICAL NATURE OF OUR BUSINESS  Almost all our products are produced and consumed outdoors. Seasonal changes and other weather-related conditions can affect the production and sales volumes of our products. Therefore, the financial results for any quarter do not necessarily indicate the results expected for the year. Normally, the highest sales and earnings are in the third quarter and the lowest are in the first quarter. Furthermore, our sales and earnings are sensitive to national, regional and local economic conditions and particularly to cyclical swings in construction spending, primarily in the private sector. The levels of construction spending are affected by changing interest rates and demographic and population fluctuations. \"\n"
   ],
   "metadata": {
    "collapsed": false
   }
  },
  {
   "cell_type": "code",
   "execution_count": 4,
   "outputs": [
    {
     "data": {
      "text/plain": "['ITEM 2   MANAGEMENTS DISCUSSION AND ANALYSIS OF FINANCIAL CONDITION AND RESULTS OF OPERATIONS  GENERAL COMMENTS  OVERVIEW  Vulcan provides the basic materials for the infrastructure needed to expand the U.S. economy.',\n \"We are the nation's largest producer of construction aggregates, primarily crushed stone, sand and gravel.\",\n 'We also are a major producer of asphalt mix and ready-mixed concrete as well as a leading producer of cement in Florida.',\n 'Demand for our products is dependent on construction activity.',\n 'The primary end uses include public construction, such as highways, bridges, airports, schools and prisons, as well as private nonresidential (e.g., manufacturing, retail, offices, industrial and institutional) and private residential construction (e.g., single-family houses, duplexes, apartment buildings and condominiums).',\n 'Customers for our products include heavy construction and paving contractors; commercial building contractors; concrete products manufacturers; residential building contractors; state, county and municipal governments; railroads and electric utilities.',\n 'We operate primarily in the United States and our principal product  aggregates  is used in virtually all types of public and private construction projects and in the production of asphalt mix and ready-mixed concrete.',\n 'Aggregates have a high weight-to-value ratio and, in most cases, must be produced near where they are used; if not, transportation can cost more than the materials.',\n 'Exceptions to this typical market structure include areas along the U.S. Gulf Coast and the Eastern Seaboard where there are limited supplies of locally available high quality aggregates.',\n \"We serve these markets from inland quarries  shipping by barge and rail  and from our quarry on Mexico's Yucatan Peninsula.\",\n 'We transport aggregates from Mexico to the U.S. principally on our three Panamax-class, self-unloading ships.',\n 'There are practically no substitutes for quality aggregates.',\n 'Because of barriers to entry created by zoning and permitting regulation and because of high transportation costs relative to the value of the product, the location of reserves is a critical factor to long-term success.',\n 'While aggregates is our primary business, we believe vertical integration between aggregates and downstream products, such as asphalt mix and concrete, can be managed effectively in certain markets to generate acceptable financial returns.',\n 'We produce and sell asphalt mix and ready-mixed concrete primarily in our mid-Atlantic, Georgia, Florida, southwestern and western markets.',\n 'Aggregates comprise approximately 95% of asphalt mix by weight and 78% of ready-mixed concrete by weight.',\n 'In all of these downstream businesses, we supply virtually all of the required aggregates from our own operations.',\n 'SEASONALITY AND CYCLICAL NATURE OF OUR BUSINESS  Almost all our products are produced and consumed outdoors.',\n 'Seasonal changes and other weather-related conditions can affect the production and sales volumes of our products.',\n 'Therefore, the financial results for any quarter do not necessarily indicate the results expected for the year.',\n 'Normally, the highest sales and earnings are in the third quarter and the lowest are in the first quarter.',\n 'Furthermore, our sales and earnings are sensitive to national, regional and local economic conditions and particularly to cyclical swings in construction spending, primarily in the private sector.',\n 'The levels of construction spending are affected by changing interest rates and demographic and population fluctuations.']"
     },
     "execution_count": 4,
     "metadata": {},
     "output_type": "execute_result"
    }
   ],
   "source": [
    "a=split_into_sentences(txt)\n",
    "a"
   ],
   "metadata": {
    "collapsed": false
   }
  },
  {
   "cell_type": "code",
   "execution_count": null,
   "outputs": [],
   "source": [],
   "metadata": {
    "collapsed": false
   }
  }
 ],
 "metadata": {
  "kernelspec": {
   "display_name": "Python 3",
   "language": "python",
   "name": "python3"
  },
  "language_info": {
   "codemirror_mode": {
    "name": "ipython",
    "version": 2
   },
   "file_extension": ".py",
   "mimetype": "text/x-python",
   "name": "python",
   "nbconvert_exporter": "python",
   "pygments_lexer": "ipython2",
   "version": "2.7.6"
  }
 },
 "nbformat": 4,
 "nbformat_minor": 0
}
