{
 "cells": [
  {
   "cell_type": "code",
   "execution_count": 15,
   "metadata": {
    "collapsed": true
   },
   "outputs": [],
   "source": [
    "import numpy as np\n",
    "import pandas as pd\n",
    "from sklearn.utils.class_weight import compute_class_weight"
   ]
  },
  {
   "cell_type": "code",
   "execution_count": 16,
   "outputs": [
    {
     "data": {
      "text/plain": "        Id  Rating                                 Name Symbol  \\\n0     1149       3             Vulcan Materials Company    VMC   \n1      942       3         Vishay Intertechnology, Inc.    VSH   \n2     1006       3         Kennedy-Wilson Holdings Inc.     KW   \n3     1977       4  MagnaChip Semiconductor Corporation     MX   \n4      253       2         LyondellBasell Industries NV    LYB   \n...    ...     ...                                  ...    ...   \n1255  1215       2              Black Hills Corporation    BKH   \n1256  1120       3           Gibraltar Industries, Inc.   ROCK   \n1257   720       2                 Mosaic Company (The)    MOS   \n1258  1879       4  Select Medical Holdings Corporation    SEM   \n1259    24       1              Duke Energy Corporation    DUK   \n\n                      Rating Agency Name        Date            Sector  \\\n0              Moody's Investors Service   7/12/2012  Basic Industries   \n1     Standard & Poor's Ratings Services    6/1/2012     Capital Goods   \n2     Standard & Poor's Ratings Services  12/12/2014           Finance   \n3              Moody's Investors Service   6/27/2014        Technology   \n4     Standard & Poor's Ratings Services   1/21/2016  Basic Industries   \n...                                  ...         ...               ...   \n1255           Moody's Investors Service   8/11/2016  Public Utilities   \n1256  Standard & Poor's Ratings Services   1/26/2016     Capital Goods   \n1257           Moody's Investors Service   6/15/2012  Basic Industries   \n1258  Standard & Poor's Ratings Services  11/17/2016       Health Care   \n1259          Egan-Jones Ratings Company   9/27/2013  Public Utilities   \n\n      currentRatio  quickRatio  cashRatio  ...  cashPerShare  \\\n0         2.256983    1.363618   0.631235  ...      2.447563   \n1         4.162633    2.885929   1.703293  ...      6.235256   \n2         3.225442    3.225442   2.404976  ...     10.585100   \n3         2.061519    1.464672   0.947629  ...      4.499237   \n4         2.250862    1.000460   0.212463  ...      4.275269   \n...            ...         ...        ...  ...           ...   \n1255      0.884231    0.532279   0.025723  ...      0.341243   \n1256      1.895531    1.261237   0.371412  ...      2.204655   \n1257      3.466373    2.649831   2.025616  ...      9.479148   \n1258      1.413608    1.176942   0.173238  ...      0.774796   \n1259      1.216566    0.389287   0.173646  ...      4.604816   \n\n      companyEquityMultiplier  ebitPerRevenue  enterpriseValueMultiple  \\\n0                    2.160719       -0.046904                23.455712   \n1                    1.867573        0.127645                 3.455541   \n2                    7.027078        2.134146                11.711758   \n3                    7.667186       -0.082042                93.032349   \n4                    3.474351        0.189675                 5.985672   \n...                       ...             ...                      ...   \n1255                 4.035233        0.059191                15.315972   \n1256                 2.169720        0.035643                 9.224703   \n1257                 1.356076        0.253426                 8.712714   \n1258                 6.061350        0.042168                 9.095279   \n1259                 2.777135        0.159363                10.729185   \n\n      operatingCashFlowPerShare  operatingCashFlowSalesRatio  \\\n0                      1.838028                     0.092889   \n1                      2.348851                     0.144963   \n2                      1.099765                     1.709059   \n3                      1.951482                     0.093649   \n4                     12.563441                     0.178463   \n...                         ...                          ...   \n1255                   6.172008                     0.203731   \n1256                   2.775398                     0.083280   \n1257                   5.441031                     0.244189   \n1258                   2.711798                     0.080868   \n1259                   9.039660                     0.259452   \n\n      payablesTurnover      CIK  \\\n0            19.704810  1396009   \n1            12.095126   103730   \n2             0.439411  1408100   \n3             7.715384  1325702   \n4            15.785495  1489393   \n...                ...      ...   \n1255          3.252162  1130464   \n1256          9.572407   912562   \n1257          7.242588  1285785   \n1258         28.957814  1320414   \n1259          0.000000  1326160   \n\n                                                secText  \\\n0     We remain focused on executing our initiatives...   \n1     The recovery of our business that we began exp...   \n2     We regularly monitor capital-raising alternati...   \n3     Item 2. Managements Discussion and Analysis of...   \n4     Polyethylene and polypropylene margins in Euro...   \n...                                                 ...   \n1255  Cash inflows decreased by approximately $9.0 m...   \n1256  These benefits were partially offset by the ef...   \n1257  During the three months ended August 31, 2011,...   \n1258  \\nYou should read this discussion together wit...   \n1259  A $27 million decrease in electric revenues fr...   \n\n                                            secKeywords  \n0     aggregates dividend leverage earnings markets ...  \n1     hirel sales acquired supplier recession llc tr...  \n2     homebuilding zonda mobile application market h...  \n3                                                   NaN  \n4     polypropylene polyethylene propylene demand fo...  \n...                                                 ...  \n1255  bhc cash sourcegas equity market inflows sale ...  \n1256  accounting financial currency costs quarter es...  \n1257  regulation liabilities operations cash earning...  \n1258                                                NaN  \n1259  debt revenues degs repay expenditures proceeds...  \n\n[1260 rows x 35 columns]",
      "text/html": "<div>\n<style scoped>\n    .dataframe tbody tr th:only-of-type {\n        vertical-align: middle;\n    }\n\n    .dataframe tbody tr th {\n        vertical-align: top;\n    }\n\n    .dataframe thead th {\n        text-align: right;\n    }\n</style>\n<table border=\"1\" class=\"dataframe\">\n  <thead>\n    <tr style=\"text-align: right;\">\n      <th></th>\n      <th>Id</th>\n      <th>Rating</th>\n      <th>Name</th>\n      <th>Symbol</th>\n      <th>Rating Agency Name</th>\n      <th>Date</th>\n      <th>Sector</th>\n      <th>currentRatio</th>\n      <th>quickRatio</th>\n      <th>cashRatio</th>\n      <th>...</th>\n      <th>cashPerShare</th>\n      <th>companyEquityMultiplier</th>\n      <th>ebitPerRevenue</th>\n      <th>enterpriseValueMultiple</th>\n      <th>operatingCashFlowPerShare</th>\n      <th>operatingCashFlowSalesRatio</th>\n      <th>payablesTurnover</th>\n      <th>CIK</th>\n      <th>secText</th>\n      <th>secKeywords</th>\n    </tr>\n  </thead>\n  <tbody>\n    <tr>\n      <th>0</th>\n      <td>1149</td>\n      <td>3</td>\n      <td>Vulcan Materials Company</td>\n      <td>VMC</td>\n      <td>Moody's Investors Service</td>\n      <td>7/12/2012</td>\n      <td>Basic Industries</td>\n      <td>2.256983</td>\n      <td>1.363618</td>\n      <td>0.631235</td>\n      <td>...</td>\n      <td>2.447563</td>\n      <td>2.160719</td>\n      <td>-0.046904</td>\n      <td>23.455712</td>\n      <td>1.838028</td>\n      <td>0.092889</td>\n      <td>19.704810</td>\n      <td>1396009</td>\n      <td>We remain focused on executing our initiatives...</td>\n      <td>aggregates dividend leverage earnings markets ...</td>\n    </tr>\n    <tr>\n      <th>1</th>\n      <td>942</td>\n      <td>3</td>\n      <td>Vishay Intertechnology, Inc.</td>\n      <td>VSH</td>\n      <td>Standard &amp; Poor's Ratings Services</td>\n      <td>6/1/2012</td>\n      <td>Capital Goods</td>\n      <td>4.162633</td>\n      <td>2.885929</td>\n      <td>1.703293</td>\n      <td>...</td>\n      <td>6.235256</td>\n      <td>1.867573</td>\n      <td>0.127645</td>\n      <td>3.455541</td>\n      <td>2.348851</td>\n      <td>0.144963</td>\n      <td>12.095126</td>\n      <td>103730</td>\n      <td>The recovery of our business that we began exp...</td>\n      <td>hirel sales acquired supplier recession llc tr...</td>\n    </tr>\n    <tr>\n      <th>2</th>\n      <td>1006</td>\n      <td>3</td>\n      <td>Kennedy-Wilson Holdings Inc.</td>\n      <td>KW</td>\n      <td>Standard &amp; Poor's Ratings Services</td>\n      <td>12/12/2014</td>\n      <td>Finance</td>\n      <td>3.225442</td>\n      <td>3.225442</td>\n      <td>2.404976</td>\n      <td>...</td>\n      <td>10.585100</td>\n      <td>7.027078</td>\n      <td>2.134146</td>\n      <td>11.711758</td>\n      <td>1.099765</td>\n      <td>1.709059</td>\n      <td>0.439411</td>\n      <td>1408100</td>\n      <td>We regularly monitor capital-raising alternati...</td>\n      <td>homebuilding zonda mobile application market h...</td>\n    </tr>\n    <tr>\n      <th>3</th>\n      <td>1977</td>\n      <td>4</td>\n      <td>MagnaChip Semiconductor Corporation</td>\n      <td>MX</td>\n      <td>Moody's Investors Service</td>\n      <td>6/27/2014</td>\n      <td>Technology</td>\n      <td>2.061519</td>\n      <td>1.464672</td>\n      <td>0.947629</td>\n      <td>...</td>\n      <td>4.499237</td>\n      <td>7.667186</td>\n      <td>-0.082042</td>\n      <td>93.032349</td>\n      <td>1.951482</td>\n      <td>0.093649</td>\n      <td>7.715384</td>\n      <td>1325702</td>\n      <td>Item 2. Managements Discussion and Analysis of...</td>\n      <td>NaN</td>\n    </tr>\n    <tr>\n      <th>4</th>\n      <td>253</td>\n      <td>2</td>\n      <td>LyondellBasell Industries NV</td>\n      <td>LYB</td>\n      <td>Standard &amp; Poor's Ratings Services</td>\n      <td>1/21/2016</td>\n      <td>Basic Industries</td>\n      <td>2.250862</td>\n      <td>1.000460</td>\n      <td>0.212463</td>\n      <td>...</td>\n      <td>4.275269</td>\n      <td>3.474351</td>\n      <td>0.189675</td>\n      <td>5.985672</td>\n      <td>12.563441</td>\n      <td>0.178463</td>\n      <td>15.785495</td>\n      <td>1489393</td>\n      <td>Polyethylene and polypropylene margins in Euro...</td>\n      <td>polypropylene polyethylene propylene demand fo...</td>\n    </tr>\n    <tr>\n      <th>...</th>\n      <td>...</td>\n      <td>...</td>\n      <td>...</td>\n      <td>...</td>\n      <td>...</td>\n      <td>...</td>\n      <td>...</td>\n      <td>...</td>\n      <td>...</td>\n      <td>...</td>\n      <td>...</td>\n      <td>...</td>\n      <td>...</td>\n      <td>...</td>\n      <td>...</td>\n      <td>...</td>\n      <td>...</td>\n      <td>...</td>\n      <td>...</td>\n      <td>...</td>\n      <td>...</td>\n    </tr>\n    <tr>\n      <th>1255</th>\n      <td>1215</td>\n      <td>2</td>\n      <td>Black Hills Corporation</td>\n      <td>BKH</td>\n      <td>Moody's Investors Service</td>\n      <td>8/11/2016</td>\n      <td>Public Utilities</td>\n      <td>0.884231</td>\n      <td>0.532279</td>\n      <td>0.025723</td>\n      <td>...</td>\n      <td>0.341243</td>\n      <td>4.035233</td>\n      <td>0.059191</td>\n      <td>15.315972</td>\n      <td>6.172008</td>\n      <td>0.203731</td>\n      <td>3.252162</td>\n      <td>1130464</td>\n      <td>Cash inflows decreased by approximately $9.0 m...</td>\n      <td>bhc cash sourcegas equity market inflows sale ...</td>\n    </tr>\n    <tr>\n      <th>1256</th>\n      <td>1120</td>\n      <td>3</td>\n      <td>Gibraltar Industries, Inc.</td>\n      <td>ROCK</td>\n      <td>Standard &amp; Poor's Ratings Services</td>\n      <td>1/26/2016</td>\n      <td>Capital Goods</td>\n      <td>1.895531</td>\n      <td>1.261237</td>\n      <td>0.371412</td>\n      <td>...</td>\n      <td>2.204655</td>\n      <td>2.169720</td>\n      <td>0.035643</td>\n      <td>9.224703</td>\n      <td>2.775398</td>\n      <td>0.083280</td>\n      <td>9.572407</td>\n      <td>912562</td>\n      <td>These benefits were partially offset by the ef...</td>\n      <td>accounting financial currency costs quarter es...</td>\n    </tr>\n    <tr>\n      <th>1257</th>\n      <td>720</td>\n      <td>2</td>\n      <td>Mosaic Company (The)</td>\n      <td>MOS</td>\n      <td>Moody's Investors Service</td>\n      <td>6/15/2012</td>\n      <td>Basic Industries</td>\n      <td>3.466373</td>\n      <td>2.649831</td>\n      <td>2.025616</td>\n      <td>...</td>\n      <td>9.479148</td>\n      <td>1.356076</td>\n      <td>0.253426</td>\n      <td>8.712714</td>\n      <td>5.441031</td>\n      <td>0.244189</td>\n      <td>7.242588</td>\n      <td>1285785</td>\n      <td>During the three months ended August 31, 2011,...</td>\n      <td>regulation liabilities operations cash earning...</td>\n    </tr>\n    <tr>\n      <th>1258</th>\n      <td>1879</td>\n      <td>4</td>\n      <td>Select Medical Holdings Corporation</td>\n      <td>SEM</td>\n      <td>Standard &amp; Poor's Ratings Services</td>\n      <td>11/17/2016</td>\n      <td>Health Care</td>\n      <td>1.413608</td>\n      <td>1.176942</td>\n      <td>0.173238</td>\n      <td>...</td>\n      <td>0.774796</td>\n      <td>6.061350</td>\n      <td>0.042168</td>\n      <td>9.095279</td>\n      <td>2.711798</td>\n      <td>0.080868</td>\n      <td>28.957814</td>\n      <td>1320414</td>\n      <td>\\nYou should read this discussion together wit...</td>\n      <td>NaN</td>\n    </tr>\n    <tr>\n      <th>1259</th>\n      <td>24</td>\n      <td>1</td>\n      <td>Duke Energy Corporation</td>\n      <td>DUK</td>\n      <td>Egan-Jones Ratings Company</td>\n      <td>9/27/2013</td>\n      <td>Public Utilities</td>\n      <td>1.216566</td>\n      <td>0.389287</td>\n      <td>0.173646</td>\n      <td>...</td>\n      <td>4.604816</td>\n      <td>2.777135</td>\n      <td>0.159363</td>\n      <td>10.729185</td>\n      <td>9.039660</td>\n      <td>0.259452</td>\n      <td>0.000000</td>\n      <td>1326160</td>\n      <td>A $27 million decrease in electric revenues fr...</td>\n      <td>debt revenues degs repay expenditures proceeds...</td>\n    </tr>\n  </tbody>\n</table>\n<p>1260 rows × 35 columns</p>\n</div>"
     },
     "execution_count": 16,
     "metadata": {},
     "output_type": "execute_result"
    }
   ],
   "source": [
    "train_df = pd.read_csv('../../data/cr_sec_6/train.csv')\n",
    "train_df"
   ],
   "metadata": {
    "collapsed": false
   }
  },
  {
   "cell_type": "code",
   "execution_count": 17,
   "outputs": [
    {
     "data": {
      "text/plain": "2    409\n3    302\n1    253\n4    180\n0     70\n5     46\nName: Rating, dtype: int64"
     },
     "execution_count": 17,
     "metadata": {},
     "output_type": "execute_result"
    }
   ],
   "source": [
    "train_df['Rating'].value_counts()"
   ],
   "metadata": {
    "collapsed": false
   }
  },
  {
   "cell_type": "code",
   "execution_count": 18,
   "outputs": [
    {
     "data": {
      "text/plain": "0       3\n1       3\n2       3\n3       4\n4       2\n       ..\n1255    2\n1256    3\n1257    2\n1258    4\n1259    1\nName: Rating, Length: 1260, dtype: int64"
     },
     "execution_count": 18,
     "metadata": {},
     "output_type": "execute_result"
    }
   ],
   "source": [
    "train_df['Rating']"
   ],
   "metadata": {
    "collapsed": false
   }
  },
  {
   "cell_type": "code",
   "execution_count": 19,
   "outputs": [
    {
     "data": {
      "text/plain": "array([3, 3, 3, ..., 2, 4, 1])"
     },
     "execution_count": 19,
     "metadata": {},
     "output_type": "execute_result"
    }
   ],
   "source": [
    "y = train_df['Rating'].values\n",
    "y"
   ],
   "metadata": {
    "collapsed": false
   }
  },
  {
   "cell_type": "code",
   "execution_count": 20,
   "outputs": [
    {
     "data": {
      "text/plain": "array([0, 1, 2, 3, 4, 5])"
     },
     "execution_count": 20,
     "metadata": {},
     "output_type": "execute_result"
    }
   ],
   "source": [
    "classes = np.unique(train_df['Rating'])\n",
    "classes"
   ],
   "metadata": {
    "collapsed": false
   }
  },
  {
   "cell_type": "markdown",
   "source": [],
   "metadata": {
    "collapsed": false
   }
  },
  {
   "cell_type": "code",
   "execution_count": 22,
   "outputs": [
    {
     "data": {
      "text/plain": "array([3.        , 0.83003953, 0.51344743, 0.69536424, 1.16666667,\n       4.56521739])"
     },
     "execution_count": 22,
     "metadata": {},
     "output_type": "execute_result"
    }
   ],
   "source": [
    "compute_class_weight(class_weight='balanced', classes=classes, y=y)"
   ],
   "metadata": {
    "collapsed": false
   }
  },
  {
   "cell_type": "code",
   "execution_count": null,
   "outputs": [],
   "source": [],
   "metadata": {
    "collapsed": false
   }
  }
 ],
 "metadata": {
  "kernelspec": {
   "display_name": "Python 3",
   "language": "python",
   "name": "python3"
  },
  "language_info": {
   "codemirror_mode": {
    "name": "ipython",
    "version": 2
   },
   "file_extension": ".py",
   "mimetype": "text/x-python",
   "name": "python",
   "nbconvert_exporter": "python",
   "pygments_lexer": "ipython2",
   "version": "2.7.6"
  }
 },
 "nbformat": 4,
 "nbformat_minor": 0
}
