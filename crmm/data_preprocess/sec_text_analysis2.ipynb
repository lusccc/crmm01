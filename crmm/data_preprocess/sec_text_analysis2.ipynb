{
 "cells": [
  {
   "cell_type": "code",
   "execution_count": 1,
   "metadata": {
    "collapsed": true
   },
   "outputs": [],
   "source": [
    "import pandas as pd"
   ]
  },
  {
   "cell_type": "code",
   "execution_count": 2,
   "outputs": [
    {
     "name": "stdout",
     "output_type": "stream",
     "text": [
      "/home/lsc/pyprojs/credit_rating_multi_modal/crmm/data_preprocess\r\n"
     ]
    }
   ],
   "source": [
    "!pwd"
   ],
   "metadata": {
    "collapsed": false
   }
  },
  {
   "cell_type": "code",
   "execution_count": 3,
   "outputs": [
    {
     "data": {
      "text/plain": "      Unnamed: 0 Rating                            Name Symbol  \\\n0              0      A           Whirlpool Corporation    WHR   \n1              1    BBB           Whirlpool Corporation    WHR   \n2              2    BBB           Whirlpool Corporation    WHR   \n3              3    BBB           Whirlpool Corporation    WHR   \n4              4    BBB           Whirlpool Corporation    WHR   \n...          ...    ...                             ...    ...   \n1796        2020     AA                   Gartner, Inc.     IT   \n1797        2021      B  SBA Communications Corporation   SBAC   \n1798        2023     AA            Imperial Oil Limited    IMO   \n1799        2024    BBB                       NVR, Inc.    NVR   \n1800        2025     BB     Kaiser Aluminum Corporation   KALU   \n\n                      Rating Agency Name        Date             Sector  \\\n0             Egan-Jones Ratings Company  11/27/2015  Consumer Durables   \n1             Egan-Jones Ratings Company   2/13/2014  Consumer Durables   \n2                          Fitch Ratings    3/6/2015  Consumer Durables   \n3                          Fitch Ratings   6/15/2012  Consumer Durables   \n4     Standard & Poor's Ratings Services  10/24/2016  Consumer Durables   \n...                                  ...         ...                ...   \n1796          Egan-Jones Ratings Company   2/18/2016  Consumer Services   \n1797  Standard & Poor's Ratings Services   8/28/2013  Consumer Services   \n1798                                DBRS   10/7/2016             Energy   \n1799           Moody's Investors Service    9/5/2012      Capital Goods   \n1800  Standard & Poor's Ratings Services   4/28/2016      Capital Goods   \n\n      currentRatio  quickRatio  cashRatio  ...  freeCashFlowPerShare  \\\n0         0.945894    0.426395   0.099690  ...              6.810673   \n1         1.033559    0.498234   0.203120  ...              8.625473   \n2         0.963703    0.451505   0.122099  ...              9.693487   \n3         1.019851    0.510402   0.176116  ...             -1.015625   \n4         0.957844    0.495432   0.141608  ...              7.135348   \n...            ...         ...        ...  ...                   ...   \n1796      0.862111    0.720623   0.281812  ...              4.121082   \n1797      0.459629    0.266021   0.163323  ...              2.572565   \n1798      0.986608    0.886943   0.100695  ...              1.111373   \n1799     11.757767    7.115059   7.057420  ...             50.293155   \n1800      2.962788    1.294743   0.428234  ...              5.563630   \n\n      cashPerShare  companyEquityMultiplier  ebitPerRevenue  \\\n0         9.809403                 4.008012        0.049351   \n1        17.402270                 3.156783        0.048857   \n2        13.103448                 4.094575        0.044334   \n3        14.440104                 3.630950       -0.012858   \n4        14.257556                 4.012780        0.053770   \n...            ...                      ...             ...   \n1796      4.448027               -16.425121        0.125846   \n1797      0.998349                19.002336       -0.043850   \n1798      1.676498                 1.664762        0.089347   \n1799    230.194971                 1.759461        0.086376   \n1800      5.958956                 1.614282       -0.267117   \n\n      enterpriseValueMultiple  operatingCashFlowPerShare  \\\n0                    7.057088                  15.565438   \n1                    6.460618                  15.914250   \n2                   10.491970                  18.888889   \n3                    4.080741                   6.901042   \n4                    8.293505                  15.808147   \n...                       ...                        ...   \n1796                23.234839                   4.121082   \n1797                22.537466                   3.894427   \n1798                 7.977219                   2.377301   \n1799                15.867701                  52.760726   \n1800                -4.729967                   9.232021   \n\n      operatingCashFlowSalesRatio  payablesTurnover      CIK  \\\n0                        0.058638          3.906655   106640   \n1                        0.067239          4.002846   106640   \n2                        0.074426          3.483510   106640   \n3                        0.028394          4.581150   106640   \n4                        0.058065          3.857790   106640   \n...                           ...               ...      ...   \n1796                     0.159756          2.164291   749251   \n1797                     0.381332         16.799152  1034054   \n1798                     0.073664          0.000000    49938   \n1799                     0.083018         15.758348   906163   \n1800                     0.114089         14.542373   811596   \n\n                                                secText  \n0     ITEM 2.MANAGEMENTS DISCUSSION AND ANALYSIS OF ...  \n1     ITEM 2.MANAGEMENTS DISCUSSION AND ANALYSIS OF ...  \n2     ITEM 2.MANAGEMENTS DISCUSSION AND ANALYSIS OF ...  \n3     ITEM 2.MANAGEMENTS DISCUSSION AND ANALYSIS OF ...  \n4     ITEM 2.MANAGEMENTS DISCUSSION AND ANALYSIS OF ...  \n...                                                 ...  \n1796  ITEM 2. MANAGEMENTS DISCUSSION AND ANALYSIS OF...  \n1797  ITEM 2. MANAGEMENTS DISCUSSION AND ANALYSIS OF...  \n1798  Item 2. Managements Discussion and Analysis of...  \n1799  Item 2. Managements Discussion and Analysis of...  \n1800  Item 2. Management's Discussion and Analysis o...  \n\n[1801 rows x 34 columns]",
      "text/html": "<div>\n<style scoped>\n    .dataframe tbody tr th:only-of-type {\n        vertical-align: middle;\n    }\n\n    .dataframe tbody tr th {\n        vertical-align: top;\n    }\n\n    .dataframe thead th {\n        text-align: right;\n    }\n</style>\n<table border=\"1\" class=\"dataframe\">\n  <thead>\n    <tr style=\"text-align: right;\">\n      <th></th>\n      <th>Unnamed: 0</th>\n      <th>Rating</th>\n      <th>Name</th>\n      <th>Symbol</th>\n      <th>Rating Agency Name</th>\n      <th>Date</th>\n      <th>Sector</th>\n      <th>currentRatio</th>\n      <th>quickRatio</th>\n      <th>cashRatio</th>\n      <th>...</th>\n      <th>freeCashFlowPerShare</th>\n      <th>cashPerShare</th>\n      <th>companyEquityMultiplier</th>\n      <th>ebitPerRevenue</th>\n      <th>enterpriseValueMultiple</th>\n      <th>operatingCashFlowPerShare</th>\n      <th>operatingCashFlowSalesRatio</th>\n      <th>payablesTurnover</th>\n      <th>CIK</th>\n      <th>secText</th>\n    </tr>\n  </thead>\n  <tbody>\n    <tr>\n      <th>0</th>\n      <td>0</td>\n      <td>A</td>\n      <td>Whirlpool Corporation</td>\n      <td>WHR</td>\n      <td>Egan-Jones Ratings Company</td>\n      <td>11/27/2015</td>\n      <td>Consumer Durables</td>\n      <td>0.945894</td>\n      <td>0.426395</td>\n      <td>0.099690</td>\n      <td>...</td>\n      <td>6.810673</td>\n      <td>9.809403</td>\n      <td>4.008012</td>\n      <td>0.049351</td>\n      <td>7.057088</td>\n      <td>15.565438</td>\n      <td>0.058638</td>\n      <td>3.906655</td>\n      <td>106640</td>\n      <td>ITEM 2.MANAGEMENTS DISCUSSION AND ANALYSIS OF ...</td>\n    </tr>\n    <tr>\n      <th>1</th>\n      <td>1</td>\n      <td>BBB</td>\n      <td>Whirlpool Corporation</td>\n      <td>WHR</td>\n      <td>Egan-Jones Ratings Company</td>\n      <td>2/13/2014</td>\n      <td>Consumer Durables</td>\n      <td>1.033559</td>\n      <td>0.498234</td>\n      <td>0.203120</td>\n      <td>...</td>\n      <td>8.625473</td>\n      <td>17.402270</td>\n      <td>3.156783</td>\n      <td>0.048857</td>\n      <td>6.460618</td>\n      <td>15.914250</td>\n      <td>0.067239</td>\n      <td>4.002846</td>\n      <td>106640</td>\n      <td>ITEM 2.MANAGEMENTS DISCUSSION AND ANALYSIS OF ...</td>\n    </tr>\n    <tr>\n      <th>2</th>\n      <td>2</td>\n      <td>BBB</td>\n      <td>Whirlpool Corporation</td>\n      <td>WHR</td>\n      <td>Fitch Ratings</td>\n      <td>3/6/2015</td>\n      <td>Consumer Durables</td>\n      <td>0.963703</td>\n      <td>0.451505</td>\n      <td>0.122099</td>\n      <td>...</td>\n      <td>9.693487</td>\n      <td>13.103448</td>\n      <td>4.094575</td>\n      <td>0.044334</td>\n      <td>10.491970</td>\n      <td>18.888889</td>\n      <td>0.074426</td>\n      <td>3.483510</td>\n      <td>106640</td>\n      <td>ITEM 2.MANAGEMENTS DISCUSSION AND ANALYSIS OF ...</td>\n    </tr>\n    <tr>\n      <th>3</th>\n      <td>3</td>\n      <td>BBB</td>\n      <td>Whirlpool Corporation</td>\n      <td>WHR</td>\n      <td>Fitch Ratings</td>\n      <td>6/15/2012</td>\n      <td>Consumer Durables</td>\n      <td>1.019851</td>\n      <td>0.510402</td>\n      <td>0.176116</td>\n      <td>...</td>\n      <td>-1.015625</td>\n      <td>14.440104</td>\n      <td>3.630950</td>\n      <td>-0.012858</td>\n      <td>4.080741</td>\n      <td>6.901042</td>\n      <td>0.028394</td>\n      <td>4.581150</td>\n      <td>106640</td>\n      <td>ITEM 2.MANAGEMENTS DISCUSSION AND ANALYSIS OF ...</td>\n    </tr>\n    <tr>\n      <th>4</th>\n      <td>4</td>\n      <td>BBB</td>\n      <td>Whirlpool Corporation</td>\n      <td>WHR</td>\n      <td>Standard &amp; Poor's Ratings Services</td>\n      <td>10/24/2016</td>\n      <td>Consumer Durables</td>\n      <td>0.957844</td>\n      <td>0.495432</td>\n      <td>0.141608</td>\n      <td>...</td>\n      <td>7.135348</td>\n      <td>14.257556</td>\n      <td>4.012780</td>\n      <td>0.053770</td>\n      <td>8.293505</td>\n      <td>15.808147</td>\n      <td>0.058065</td>\n      <td>3.857790</td>\n      <td>106640</td>\n      <td>ITEM 2.MANAGEMENTS DISCUSSION AND ANALYSIS OF ...</td>\n    </tr>\n    <tr>\n      <th>...</th>\n      <td>...</td>\n      <td>...</td>\n      <td>...</td>\n      <td>...</td>\n      <td>...</td>\n      <td>...</td>\n      <td>...</td>\n      <td>...</td>\n      <td>...</td>\n      <td>...</td>\n      <td>...</td>\n      <td>...</td>\n      <td>...</td>\n      <td>...</td>\n      <td>...</td>\n      <td>...</td>\n      <td>...</td>\n      <td>...</td>\n      <td>...</td>\n      <td>...</td>\n      <td>...</td>\n    </tr>\n    <tr>\n      <th>1796</th>\n      <td>2020</td>\n      <td>AA</td>\n      <td>Gartner, Inc.</td>\n      <td>IT</td>\n      <td>Egan-Jones Ratings Company</td>\n      <td>2/18/2016</td>\n      <td>Consumer Services</td>\n      <td>0.862111</td>\n      <td>0.720623</td>\n      <td>0.281812</td>\n      <td>...</td>\n      <td>4.121082</td>\n      <td>4.448027</td>\n      <td>-16.425121</td>\n      <td>0.125846</td>\n      <td>23.234839</td>\n      <td>4.121082</td>\n      <td>0.159756</td>\n      <td>2.164291</td>\n      <td>749251</td>\n      <td>ITEM 2. MANAGEMENTS DISCUSSION AND ANALYSIS OF...</td>\n    </tr>\n    <tr>\n      <th>1797</th>\n      <td>2021</td>\n      <td>B</td>\n      <td>SBA Communications Corporation</td>\n      <td>SBAC</td>\n      <td>Standard &amp; Poor's Ratings Services</td>\n      <td>8/28/2013</td>\n      <td>Consumer Services</td>\n      <td>0.459629</td>\n      <td>0.266021</td>\n      <td>0.163323</td>\n      <td>...</td>\n      <td>2.572565</td>\n      <td>0.998349</td>\n      <td>19.002336</td>\n      <td>-0.043850</td>\n      <td>22.537466</td>\n      <td>3.894427</td>\n      <td>0.381332</td>\n      <td>16.799152</td>\n      <td>1034054</td>\n      <td>ITEM 2. MANAGEMENTS DISCUSSION AND ANALYSIS OF...</td>\n    </tr>\n    <tr>\n      <th>1798</th>\n      <td>2023</td>\n      <td>AA</td>\n      <td>Imperial Oil Limited</td>\n      <td>IMO</td>\n      <td>DBRS</td>\n      <td>10/7/2016</td>\n      <td>Energy</td>\n      <td>0.986608</td>\n      <td>0.886943</td>\n      <td>0.100695</td>\n      <td>...</td>\n      <td>1.111373</td>\n      <td>1.676498</td>\n      <td>1.664762</td>\n      <td>0.089347</td>\n      <td>7.977219</td>\n      <td>2.377301</td>\n      <td>0.073664</td>\n      <td>0.000000</td>\n      <td>49938</td>\n      <td>Item 2. Managements Discussion and Analysis of...</td>\n    </tr>\n    <tr>\n      <th>1799</th>\n      <td>2024</td>\n      <td>BBB</td>\n      <td>NVR, Inc.</td>\n      <td>NVR</td>\n      <td>Moody's Investors Service</td>\n      <td>9/5/2012</td>\n      <td>Capital Goods</td>\n      <td>11.757767</td>\n      <td>7.115059</td>\n      <td>7.057420</td>\n      <td>...</td>\n      <td>50.293155</td>\n      <td>230.194971</td>\n      <td>1.759461</td>\n      <td>0.086376</td>\n      <td>15.867701</td>\n      <td>52.760726</td>\n      <td>0.083018</td>\n      <td>15.758348</td>\n      <td>906163</td>\n      <td>Item 2. Managements Discussion and Analysis of...</td>\n    </tr>\n    <tr>\n      <th>1800</th>\n      <td>2025</td>\n      <td>BB</td>\n      <td>Kaiser Aluminum Corporation</td>\n      <td>KALU</td>\n      <td>Standard &amp; Poor's Ratings Services</td>\n      <td>4/28/2016</td>\n      <td>Capital Goods</td>\n      <td>2.962788</td>\n      <td>1.294743</td>\n      <td>0.428234</td>\n      <td>...</td>\n      <td>5.563630</td>\n      <td>5.958956</td>\n      <td>1.614282</td>\n      <td>-0.267117</td>\n      <td>-4.729967</td>\n      <td>9.232021</td>\n      <td>0.114089</td>\n      <td>14.542373</td>\n      <td>811596</td>\n      <td>Item 2. Management's Discussion and Analysis o...</td>\n    </tr>\n  </tbody>\n</table>\n<p>1801 rows × 34 columns</p>\n</div>"
     },
     "execution_count": 3,
     "metadata": {},
     "output_type": "execute_result"
    }
   ],
   "source": [
    "corp_rating_df = pd.read_csv('../../data/cr_sec_ori/corporate_rating_with_cik_and_sec_merged_text.csv', index_col=0)\n",
    "# corp_rating_df = pd.read_csv('../../data/cr_sec_ori/corporate_rating_with_cik_and_sec_merged_text.csv', )\n",
    "corp_rating_df"
   ],
   "metadata": {
    "collapsed": false
   }
  },
  {
   "cell_type": "code",
   "execution_count": 13,
   "outputs": [
    {
     "data": {
      "text/plain": "BBB    586\nBB     434\nA      350\nB      277\nAA      81\nCCC     58\nAAA      7\nCC       5\nC        2\nD        1\nName: Rating, dtype: int64"
     },
     "execution_count": 13,
     "metadata": {},
     "output_type": "execute_result"
    }
   ],
   "source": [
    "corp_rating_df['Rating'].value_counts()"
   ],
   "metadata": {
    "collapsed": false
   }
  },
  {
   "cell_type": "code",
   "execution_count": 4,
   "outputs": [],
   "source": [
    "dataset_name = 'cr_sec_6'"
   ],
   "metadata": {
    "collapsed": false
   }
  },
  {
   "cell_type": "code",
   "execution_count": 12,
   "outputs": [
    {
     "data": {
      "text/plain": "2    586\n3    434\n1    350\n4    277\n0     88\n5     66\nName: Rating, dtype: int64"
     },
     "execution_count": 12,
     "metadata": {},
     "output_type": "execute_result"
    }
   ],
   "source": [
    "# all = pd.read_csv(f'../../data/{dataset_name}/all.csv', index_col=0)\n",
    "all = pd.read_csv(f'../../data/{dataset_name}/all.csv',)\n",
    "all['Rating'].value_counts()\n"
   ],
   "metadata": {
    "collapsed": false
   }
  },
  {
   "cell_type": "code",
   "execution_count": 13,
   "outputs": [
    {
     "data": {
      "text/plain": "      Unnamed: 0.1  Unnamed: 0  Rating                                 Name  \\\n0             1029        1149       3             Vulcan Materials Company   \n1              841         942       3         Vishay Intertechnology, Inc.   \n2              901        1006       3         Kennedy-Wilson Holdings Inc.   \n3             1755        1977       4  MagnaChip Semiconductor Corporation   \n4              237         253       2         LyondellBasell Industries NV   \n...            ...         ...     ...                                  ...   \n1796           374         402       4      Acadia Healthcare Company, Inc.   \n1797          1725        1935       2                 DENTSPLY SIRONA Inc.   \n1798           467         519       3                             MSCI Inc   \n1799           580         643       5                Cleveland-Cliffs Inc.   \n1800          1387        1559       4                Teleflex Incorporated   \n\n     Symbol                  Rating Agency Name        Date            Sector  \\\n0       VMC           Moody's Investors Service   7/12/2012  Basic Industries   \n1       VSH  Standard & Poor's Ratings Services    6/1/2012     Capital Goods   \n2        KW  Standard & Poor's Ratings Services  12/12/2014           Finance   \n3        MX           Moody's Investors Service   6/27/2014        Technology   \n4       LYB  Standard & Poor's Ratings Services   1/21/2016  Basic Industries   \n...     ...                                 ...         ...               ...   \n1796   ACHC  Standard & Poor's Ratings Services   1/28/2015       Health Care   \n1797   XRAY           Moody's Investors Service   6/15/2012       Health Care   \n1798   MSCI           Moody's Investors Service  12/12/2013     Miscellaneous   \n1799    CLF           Moody's Investors Service    2/3/2016  Basic Industries   \n1800    TFX           Moody's Investors Service   6/15/2012       Health Care   \n\n      currentRatio  quickRatio  ...  freeCashFlowPerShare  cashPerShare  \\\n0         2.256983    1.363618  ...              1.118486      2.447563   \n1         4.162633    2.885929  ...              1.295464      6.235256   \n2         3.225442    3.225442  ...              1.099765     10.585100   \n3         2.061519    1.464672  ...              0.728510      4.499237   \n4         2.250862    1.000460  ...              9.466667      4.275269   \n...            ...         ...  ...                   ...           ...   \n1796      1.652121    1.280135  ...              0.037085      1.707862   \n1797      1.398896    0.763234  ...              2.257755      0.883595   \n1798      1.266368    1.049465  ...              2.332989      2.984463   \n1799      1.689359    0.569366  ...             -0.279971      1.899106   \n1800      4.724070    3.211408  ...              1.433125     14.421570   \n\n      companyEquityMultiplier  ebitPerRevenue  enterpriseValueMultiple  \\\n0                    2.160719       -0.046904                23.455712   \n1                    1.867573        0.127645                 3.455541   \n2                    7.027078        2.134146                11.711758   \n3                    7.667186       -0.082042                93.032349   \n4                    3.474351        0.189675                 5.985672   \n...                       ...             ...                      ...   \n1796                 2.524039        0.125576                25.812517   \n1797                 2.573160        0.013392                17.876789   \n1798                 1.988460        0.291307                12.188653   \n1799                -1.077773        0.155516                 9.632668   \n1800                 1.981282        0.097261                 6.741969   \n\n      operatingCashFlowPerShare  operatingCashFlowSalesRatio  \\\n0                      1.838028                     0.092889   \n1                      2.348851                     0.144963   \n2                      1.099765                     1.709059   \n3                      1.951482                     0.093649   \n4                     12.563441                     0.178463   \n...                         ...                          ...   \n1796                   2.093711                     0.114758   \n1797                   2.782942                     0.155048   \n1798                   2.668168                     0.309411   \n1799                   0.247341                     0.018825   \n1800                   2.546357                     0.067453   \n\n      payablesTurnover      CIK  \\\n0            19.704810  1396009   \n1            12.095126   103730   \n2             0.439411  1408100   \n3             7.715384  1325702   \n4            15.785495  1489393   \n...                ...      ...   \n1796          0.000000  1520697   \n1797          8.478430   818479   \n1798        274.049249  1408198   \n1799         16.714958   764065   \n1800         12.074018    96943   \n\n                                                secText  \n0     ITEM 2   MANAGEMENTS DISCUSSION AND ANALYSIS O...  \n1     Item 2. Managements Discussion and Analysis of...  \n2     Item 2.Managements Discussion and Analysis of ...  \n3     Item 2. Managements Discussion and Analysis of...  \n4     Item 2. MANAGEMENTS DISCUSSION AND ANALYSIS OF...  \n...                                                 ...  \n1796  Item 2. Managements Discussion and Analysis of...  \n1797  Item 2 - Managements Discussion and Analysis o...  \n1798  Item 2. Managements Discussion and Analysis of...  \n1799  Item 2.Management's Discussion and Analysis of...  \n1800  Item 2. Managements Discussion and Analysis of...  \n\n[1801 rows x 35 columns]",
      "text/html": "<div>\n<style scoped>\n    .dataframe tbody tr th:only-of-type {\n        vertical-align: middle;\n    }\n\n    .dataframe tbody tr th {\n        vertical-align: top;\n    }\n\n    .dataframe thead th {\n        text-align: right;\n    }\n</style>\n<table border=\"1\" class=\"dataframe\">\n  <thead>\n    <tr style=\"text-align: right;\">\n      <th></th>\n      <th>Unnamed: 0.1</th>\n      <th>Unnamed: 0</th>\n      <th>Rating</th>\n      <th>Name</th>\n      <th>Symbol</th>\n      <th>Rating Agency Name</th>\n      <th>Date</th>\n      <th>Sector</th>\n      <th>currentRatio</th>\n      <th>quickRatio</th>\n      <th>...</th>\n      <th>freeCashFlowPerShare</th>\n      <th>cashPerShare</th>\n      <th>companyEquityMultiplier</th>\n      <th>ebitPerRevenue</th>\n      <th>enterpriseValueMultiple</th>\n      <th>operatingCashFlowPerShare</th>\n      <th>operatingCashFlowSalesRatio</th>\n      <th>payablesTurnover</th>\n      <th>CIK</th>\n      <th>secText</th>\n    </tr>\n  </thead>\n  <tbody>\n    <tr>\n      <th>0</th>\n      <td>1029</td>\n      <td>1149</td>\n      <td>3</td>\n      <td>Vulcan Materials Company</td>\n      <td>VMC</td>\n      <td>Moody's Investors Service</td>\n      <td>7/12/2012</td>\n      <td>Basic Industries</td>\n      <td>2.256983</td>\n      <td>1.363618</td>\n      <td>...</td>\n      <td>1.118486</td>\n      <td>2.447563</td>\n      <td>2.160719</td>\n      <td>-0.046904</td>\n      <td>23.455712</td>\n      <td>1.838028</td>\n      <td>0.092889</td>\n      <td>19.704810</td>\n      <td>1396009</td>\n      <td>ITEM 2   MANAGEMENTS DISCUSSION AND ANALYSIS O...</td>\n    </tr>\n    <tr>\n      <th>1</th>\n      <td>841</td>\n      <td>942</td>\n      <td>3</td>\n      <td>Vishay Intertechnology, Inc.</td>\n      <td>VSH</td>\n      <td>Standard &amp; Poor's Ratings Services</td>\n      <td>6/1/2012</td>\n      <td>Capital Goods</td>\n      <td>4.162633</td>\n      <td>2.885929</td>\n      <td>...</td>\n      <td>1.295464</td>\n      <td>6.235256</td>\n      <td>1.867573</td>\n      <td>0.127645</td>\n      <td>3.455541</td>\n      <td>2.348851</td>\n      <td>0.144963</td>\n      <td>12.095126</td>\n      <td>103730</td>\n      <td>Item 2. Managements Discussion and Analysis of...</td>\n    </tr>\n    <tr>\n      <th>2</th>\n      <td>901</td>\n      <td>1006</td>\n      <td>3</td>\n      <td>Kennedy-Wilson Holdings Inc.</td>\n      <td>KW</td>\n      <td>Standard &amp; Poor's Ratings Services</td>\n      <td>12/12/2014</td>\n      <td>Finance</td>\n      <td>3.225442</td>\n      <td>3.225442</td>\n      <td>...</td>\n      <td>1.099765</td>\n      <td>10.585100</td>\n      <td>7.027078</td>\n      <td>2.134146</td>\n      <td>11.711758</td>\n      <td>1.099765</td>\n      <td>1.709059</td>\n      <td>0.439411</td>\n      <td>1408100</td>\n      <td>Item 2.Managements Discussion and Analysis of ...</td>\n    </tr>\n    <tr>\n      <th>3</th>\n      <td>1755</td>\n      <td>1977</td>\n      <td>4</td>\n      <td>MagnaChip Semiconductor Corporation</td>\n      <td>MX</td>\n      <td>Moody's Investors Service</td>\n      <td>6/27/2014</td>\n      <td>Technology</td>\n      <td>2.061519</td>\n      <td>1.464672</td>\n      <td>...</td>\n      <td>0.728510</td>\n      <td>4.499237</td>\n      <td>7.667186</td>\n      <td>-0.082042</td>\n      <td>93.032349</td>\n      <td>1.951482</td>\n      <td>0.093649</td>\n      <td>7.715384</td>\n      <td>1325702</td>\n      <td>Item 2. Managements Discussion and Analysis of...</td>\n    </tr>\n    <tr>\n      <th>4</th>\n      <td>237</td>\n      <td>253</td>\n      <td>2</td>\n      <td>LyondellBasell Industries NV</td>\n      <td>LYB</td>\n      <td>Standard &amp; Poor's Ratings Services</td>\n      <td>1/21/2016</td>\n      <td>Basic Industries</td>\n      <td>2.250862</td>\n      <td>1.000460</td>\n      <td>...</td>\n      <td>9.466667</td>\n      <td>4.275269</td>\n      <td>3.474351</td>\n      <td>0.189675</td>\n      <td>5.985672</td>\n      <td>12.563441</td>\n      <td>0.178463</td>\n      <td>15.785495</td>\n      <td>1489393</td>\n      <td>Item 2. MANAGEMENTS DISCUSSION AND ANALYSIS OF...</td>\n    </tr>\n    <tr>\n      <th>...</th>\n      <td>...</td>\n      <td>...</td>\n      <td>...</td>\n      <td>...</td>\n      <td>...</td>\n      <td>...</td>\n      <td>...</td>\n      <td>...</td>\n      <td>...</td>\n      <td>...</td>\n      <td>...</td>\n      <td>...</td>\n      <td>...</td>\n      <td>...</td>\n      <td>...</td>\n      <td>...</td>\n      <td>...</td>\n      <td>...</td>\n      <td>...</td>\n      <td>...</td>\n      <td>...</td>\n    </tr>\n    <tr>\n      <th>1796</th>\n      <td>374</td>\n      <td>402</td>\n      <td>4</td>\n      <td>Acadia Healthcare Company, Inc.</td>\n      <td>ACHC</td>\n      <td>Standard &amp; Poor's Ratings Services</td>\n      <td>1/28/2015</td>\n      <td>Health Care</td>\n      <td>1.652121</td>\n      <td>1.280135</td>\n      <td>...</td>\n      <td>0.037085</td>\n      <td>1.707862</td>\n      <td>2.524039</td>\n      <td>0.125576</td>\n      <td>25.812517</td>\n      <td>2.093711</td>\n      <td>0.114758</td>\n      <td>0.000000</td>\n      <td>1520697</td>\n      <td>Item 2. Managements Discussion and Analysis of...</td>\n    </tr>\n    <tr>\n      <th>1797</th>\n      <td>1725</td>\n      <td>1935</td>\n      <td>2</td>\n      <td>DENTSPLY SIRONA Inc.</td>\n      <td>XRAY</td>\n      <td>Moody's Investors Service</td>\n      <td>6/15/2012</td>\n      <td>Health Care</td>\n      <td>1.398896</td>\n      <td>0.763234</td>\n      <td>...</td>\n      <td>2.257755</td>\n      <td>0.883595</td>\n      <td>2.573160</td>\n      <td>0.013392</td>\n      <td>17.876789</td>\n      <td>2.782942</td>\n      <td>0.155048</td>\n      <td>8.478430</td>\n      <td>818479</td>\n      <td>Item 2 - Managements Discussion and Analysis o...</td>\n    </tr>\n    <tr>\n      <th>1798</th>\n      <td>467</td>\n      <td>519</td>\n      <td>3</td>\n      <td>MSCI Inc</td>\n      <td>MSCI</td>\n      <td>Moody's Investors Service</td>\n      <td>12/12/2013</td>\n      <td>Miscellaneous</td>\n      <td>1.266368</td>\n      <td>1.049465</td>\n      <td>...</td>\n      <td>2.332989</td>\n      <td>2.984463</td>\n      <td>1.988460</td>\n      <td>0.291307</td>\n      <td>12.188653</td>\n      <td>2.668168</td>\n      <td>0.309411</td>\n      <td>274.049249</td>\n      <td>1408198</td>\n      <td>Item 2. Managements Discussion and Analysis of...</td>\n    </tr>\n    <tr>\n      <th>1799</th>\n      <td>580</td>\n      <td>643</td>\n      <td>5</td>\n      <td>Cleveland-Cliffs Inc.</td>\n      <td>CLF</td>\n      <td>Moody's Investors Service</td>\n      <td>2/3/2016</td>\n      <td>Basic Industries</td>\n      <td>1.689359</td>\n      <td>0.569366</td>\n      <td>...</td>\n      <td>-0.279971</td>\n      <td>1.899106</td>\n      <td>-1.077773</td>\n      <td>0.155516</td>\n      <td>9.632668</td>\n      <td>0.247341</td>\n      <td>0.018825</td>\n      <td>16.714958</td>\n      <td>764065</td>\n      <td>Item 2.Management's Discussion and Analysis of...</td>\n    </tr>\n    <tr>\n      <th>1800</th>\n      <td>1387</td>\n      <td>1559</td>\n      <td>4</td>\n      <td>Teleflex Incorporated</td>\n      <td>TFX</td>\n      <td>Moody's Investors Service</td>\n      <td>6/15/2012</td>\n      <td>Health Care</td>\n      <td>4.724070</td>\n      <td>3.211408</td>\n      <td>...</td>\n      <td>1.433125</td>\n      <td>14.421570</td>\n      <td>1.981282</td>\n      <td>0.097261</td>\n      <td>6.741969</td>\n      <td>2.546357</td>\n      <td>0.067453</td>\n      <td>12.074018</td>\n      <td>96943</td>\n      <td>Item 2. Managements Discussion and Analysis of...</td>\n    </tr>\n  </tbody>\n</table>\n<p>1801 rows × 35 columns</p>\n</div>"
     },
     "execution_count": 13,
     "metadata": {},
     "output_type": "execute_result"
    }
   ],
   "source": [
    "all"
   ],
   "metadata": {
    "collapsed": false
   }
  },
  {
   "cell_type": "code",
   "execution_count": 16,
   "outputs": [
    {
     "data": {
      "text/plain": "2    409\n3    302\n1    253\n4    180\n0     70\n5     46\nName: Rating, dtype: int64"
     },
     "execution_count": 16,
     "metadata": {},
     "output_type": "execute_result"
    }
   ],
   "source": [
    "train = pd.read_csv(f'../../data/{dataset_name}/train.csv', index_col=0)\n",
    "train['Rating'].value_counts()"
   ],
   "metadata": {
    "collapsed": false
   }
  },
  {
   "cell_type": "code",
   "execution_count": 17,
   "outputs": [
    {
     "data": {
      "text/plain": "2    46\n3    36\n1    24\n4    19\n0     5\n5     5\nName: Rating, dtype: int64"
     },
     "execution_count": 17,
     "metadata": {},
     "output_type": "execute_result"
    }
   ],
   "source": [
    "val = pd.read_csv(f'../../data/{dataset_name}/val.csv', index_col=0)\n",
    "val['Rating'].value_counts()"
   ],
   "metadata": {
    "collapsed": false
   }
  },
  {
   "cell_type": "code",
   "execution_count": 18,
   "outputs": [
    {
     "data": {
      "text/plain": "2    131\n3     96\n4     78\n1     73\n5     15\n0     13\nName: Rating, dtype: int64"
     },
     "execution_count": 18,
     "metadata": {},
     "output_type": "execute_result"
    }
   ],
   "source": [
    "test = pd.read_csv(f'../../data/{dataset_name}/test.csv', index_col=0)\n",
    "test['Rating'].value_counts()"
   ],
   "metadata": {
    "collapsed": false
   }
  },
  {
   "cell_type": "code",
   "execution_count": 18,
   "outputs": [],
   "source": [],
   "metadata": {
    "collapsed": false
   }
  }
 ],
 "metadata": {
  "kernelspec": {
   "display_name": "Python 3",
   "language": "python",
   "name": "python3"
  },
  "language_info": {
   "codemirror_mode": {
    "name": "ipython",
    "version": 2
   },
   "file_extension": ".py",
   "mimetype": "text/x-python",
   "name": "python",
   "nbconvert_exporter": "python",
   "pygments_lexer": "ipython2",
   "version": "2.7.6"
  }
 },
 "nbformat": 4,
 "nbformat_minor": 0
}
