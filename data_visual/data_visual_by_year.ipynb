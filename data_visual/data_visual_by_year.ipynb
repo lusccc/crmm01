{
 "cells": [
  {
   "cell_type": "code",
   "execution_count": 1,
   "metadata": {
    "collapsed": true,
    "ExecuteTime": {
     "start_time": "2023-04-26T19:32:27.121359Z",
     "end_time": "2023-04-26T19:32:27.236011Z"
    }
   },
   "outputs": [],
   "source": [
    "import pandas as pd\n",
    "dataset_name = 'cr2'"
   ]
  },
  {
   "cell_type": "code",
   "execution_count": 2,
   "outputs": [],
   "source": [
    "train = pd.read_csv(f'../../data/{dataset_name}_sec_2/train.csv')\n",
    "test = pd.read_csv(f'../../data/{dataset_name}_sec_2/test.csv')\n",
    "val = pd.read_csv(f'../../data/{dataset_name}_sec_2/val.csv')"
   ],
   "metadata": {
    "collapsed": false,
    "ExecuteTime": {
     "start_time": "2023-04-26T19:32:27.238959Z",
     "end_time": "2023-04-26T19:32:27.281847Z"
    }
   }
  },
  {
   "cell_type": "code",
   "execution_count": null,
   "outputs": [],
   "source": [],
   "metadata": {
    "collapsed": false
   }
  }
 ],
 "metadata": {
  "kernelspec": {
   "display_name": "Python 3",
   "language": "python",
   "name": "python3"
  },
  "language_info": {
   "codemirror_mode": {
    "name": "ipython",
    "version": 2
   },
   "file_extension": ".py",
   "mimetype": "text/x-python",
   "name": "python",
   "nbconvert_exporter": "python",
   "pygments_lexer": "ipython2",
   "version": "2.7.6"
  }
 },
 "nbformat": 4,
 "nbformat_minor": 0
}
